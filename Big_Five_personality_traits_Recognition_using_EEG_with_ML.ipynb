{
  "nbformat": 4,
  "nbformat_minor": 0,
  "metadata": {
    "colab": {
      "name": "Big-Five-personality-traits-Recognition-using-EEG-with-ML.ipynb",
      "provenance": [],
      "toc_visible": true
    },
    "kernelspec": {
      "name": "python3",
      "display_name": "Python 3"
    },
    "language_info": {
      "name": "python"
    }
  },
  "cells": [
    {
      "cell_type": "markdown",
      "source": [
        "# READ DATA"
      ],
      "metadata": {
        "id": "McCMp9LhsX3w"
      }
    },
    {
      "cell_type": "code",
      "execution_count": null,
      "metadata": {
        "id": "RgF0L3V4kAVE"
      },
      "outputs": [],
      "source": [
        "import scipy.io\n",
        "import pandas as pd"
      ]
    },
    {
      "cell_type": "code",
      "source": [
        "from google.colab import drive\n",
        "drive.mount('/content/drive')"
      ],
      "metadata": {
        "id": "r-_A5-wtYmz3",
        "colab": {
          "base_uri": "https://localhost:8080/"
        },
        "outputId": "f6751913-92ea-4af4-a16c-cfb130ac8cdc"
      },
      "execution_count": null,
      "outputs": [
        {
          "output_type": "stream",
          "name": "stdout",
          "text": [
            "Mounted at /content/drive\n"
          ]
        }
      ]
    },
    {
      "cell_type": "code",
      "source": [
        "mat_EEGFeatures = scipy.io.loadmat('/content/drive/MyDrive/ASCERTAIN_Features/Dt_EEGFeatures.mat')\n",
        "mat_Order_Movie = scipy.io.loadmat('/content/drive/MyDrive/ASCERTAIN_Features/Dt_Order_Movie.mat')\n",
        "mat_Personality = scipy.io.loadmat('/content/drive/MyDrive/ASCERTAIN_Features/Dt_Personality.mat')\n",
        "mat_SelfReports = scipy.io.loadmat('/content/drive/MyDrive/ASCERTAIN_Features/Dt_SelfReports.mat')"
      ],
      "metadata": {
        "id": "lGbeaQLLskCJ"
      },
      "execution_count": null,
      "outputs": []
    },
    {
      "cell_type": "code",
      "source": [
        ""
      ],
      "metadata": {
        "id": "Rf9OboKXskWH"
      },
      "execution_count": null,
      "outputs": []
    },
    {
      "cell_type": "markdown",
      "source": [
        "## .mat to pandas"
      ],
      "metadata": {
        "id": "nsIIVS7esZg3"
      }
    },
    {
      "cell_type": "code",
      "source": [
        "import pandas as pd"
      ],
      "metadata": {
        "id": "l-vHT6m3uIip"
      },
      "execution_count": null,
      "outputs": []
    },
    {
      "cell_type": "code",
      "source": [
        "pandas_eeg_features = pd.DataFrame(mat_EEGFeatures['EEGFeatures_58'].T)\n",
        "pandas_order_movie = pd.DataFrame(mat_Order_Movie['PermutationList'])\n",
        "pandas_personality = pd.DataFrame(mat_Personality['Personality'])"
      ],
      "metadata": {
        "id": "euQdeoEvu3qS"
      },
      "execution_count": null,
      "outputs": []
    },
    {
      "cell_type": "code",
      "source": [
        ""
      ],
      "metadata": {
        "id": "5TI8hHPjjI-V"
      },
      "execution_count": null,
      "outputs": []
    },
    {
      "cell_type": "markdown",
      "source": [
        "# CLEANING DATA"
      ],
      "metadata": {
        "id": "4K7TrG3DsZ_A"
      }
    },
    {
      "cell_type": "code",
      "source": [
        "import numpy as np"
      ],
      "metadata": {
        "id": "hKRC6PvGjkJr"
      },
      "execution_count": null,
      "outputs": []
    },
    {
      "cell_type": "markdown",
      "source": [
        "pandas_new_eeg_features"
      ],
      "metadata": {
        "id": "W8nLomB1qk9v"
      }
    },
    {
      "cell_type": "code",
      "source": [
        "temp_eeg_features = np.zeros((58, 36*88))\n",
        "for person in range(58):\n",
        "    for field in range(36*88):\n",
        "        if -1000000 < pandas_eeg_features[0][person][int(field / 88)][field % 88] < 1000000 :\n",
        "            temp_eeg_features[person][field] = pandas_eeg_features[0][person][int(field / 88)][field % 88]\n",
        "        elif 1000000 < pandas_eeg_features[0][person][int(field / 88)][field % 88]:\n",
        "            temp_eeg_features[person][field] = 1000000\n",
        "        elif -1000000 > pandas_eeg_features[0][person][int(field / 88)][field % 88]:\n",
        "            temp_eeg_features[person][field] = -1000000\n",
        "        else:\n",
        "            temp_eeg_features[person][field] = 0\n",
        "pandas_new_eeg_features = pd.DataFrame(temp_eeg_features)"
      ],
      "metadata": {
        "id": "OPv5FXmAjkAK"
      },
      "execution_count": null,
      "outputs": []
    },
    {
      "cell_type": "markdown",
      "source": [
        "pandas_self_reports"
      ],
      "metadata": {
        "id": "5maptI-tq91t"
      }
    },
    {
      "cell_type": "code",
      "source": [
        "temp_self_reports = np.zeros((58, 36*5))\n",
        "for person in range(58):\n",
        "  for rating_types in range(5):\n",
        "    for videos in range(36):\n",
        "      temp_self_reports[person][rating_types * 36 + videos] = mat_SelfReports['Ratings'][rating_types][person][videos]\n",
        "pandas_self_reports = pd.DataFrame(temp_self_reports)"
      ],
      "metadata": {
        "id": "F78ACY5ZuJJJ"
      },
      "execution_count": null,
      "outputs": []
    },
    {
      "cell_type": "markdown",
      "source": [
        "## make lable with median"
      ],
      "metadata": {
        "id": "Rx4dzbzMsalo"
      }
    },
    {
      "cell_type": "markdown",
      "source": [
        "pandas_median_personality"
      ],
      "metadata": {
        "id": "FUtjaeD1kpPc"
      }
    },
    {
      "cell_type": "code",
      "source": [
        "pandas_median_personality = pandas_personality.median()"
      ],
      "metadata": {
        "id": "ku6RxlbExj2t"
      },
      "execution_count": null,
      "outputs": []
    },
    {
      "cell_type": "markdown",
      "source": [
        "pandas_median_lable"
      ],
      "metadata": {
        "id": "61oJetRLlkG0"
      }
    },
    {
      "cell_type": "code",
      "source": [
        "epsilon = 0.000000001\n",
        "pandas_median_lable = pandas_personality > pandas_median_personality + epsilon\n"
      ],
      "metadata": {
        "id": "TUnHBFIvljNU"
      },
      "execution_count": null,
      "outputs": []
    },
    {
      "cell_type": "markdown",
      "source": [
        ""
      ],
      "metadata": {
        "id": "lPp5S0uC_eFe"
      }
    },
    {
      "cell_type": "markdown",
      "source": [
        "## normalise EEG features"
      ],
      "metadata": {
        "id": "buV3Wm5wwwZT"
      }
    },
    {
      "cell_type": "code",
      "source": [
        "from sklearn import preprocessing"
      ],
      "metadata": {
        "id": "PI44Tur4xkcM"
      },
      "execution_count": null,
      "outputs": []
    },
    {
      "cell_type": "code",
      "source": [
        "min_max_scaler = preprocessing.MinMaxScaler()\n",
        "x_scaled = min_max_scaler.fit_transform(pandas_new_eeg_features)\n",
        "pandas_normalize_eeg_features = pd.DataFrame(x_scaled)"
      ],
      "metadata": {
        "id": "JX2HSt_tm3Ol"
      },
      "execution_count": null,
      "outputs": []
    },
    {
      "cell_type": "markdown",
      "source": [
        "# PREDICTION"
      ],
      "metadata": {
        "id": "c7-Rwgazwwfs"
      }
    },
    {
      "cell_type": "code",
      "source": [
        "index_to_personality_traits ={\n",
        "    0 : \"Extraversion\",\n",
        "    1 : \"Agreeableness\",\n",
        "    2 : \"Conscientiousness\",\n",
        "    3 : \"Emotional Stability\",\n",
        "    4 : \"Openness\"\n",
        "}"
      ],
      "metadata": {
        "id": "BjtAjhyRrRyH"
      },
      "execution_count": null,
      "outputs": []
    },
    {
      "cell_type": "code",
      "source": [
        "results = pd.DataFrame(data=[[.0 for i in range(8)] for j in range(5)],columns=[\n",
        "                                'svm_linear',\n",
        "                                'svm_rbf',\n",
        "                                'naive_bayes_gaussian',\n",
        "                                'naive_bayes_multinomial',\n",
        "                                'random_forest',\n",
        "                                'neural_network',\n",
        "                                'logistic_regression',\n",
        "                                'k_neighbors'])"
      ],
      "metadata": {
        "id": "94fVTwMFvrik"
      },
      "execution_count": null,
      "outputs": []
    },
    {
      "cell_type": "code",
      "source": [
        "index_to_tab = {\n",
        "    0 : \"\\t\",\n",
        "    1 : \"\\t\",\n",
        "    2 : \"\",\n",
        "    3 : \"\",\n",
        "    4 : \"\\t\"\n",
        "}"
      ],
      "metadata": {
        "id": "smokUBbpvyn1"
      },
      "execution_count": null,
      "outputs": []
    },
    {
      "cell_type": "markdown",
      "source": [
        "## Support vector machine"
      ],
      "metadata": {
        "id": "fFoLvyyzqnmO"
      }
    },
    {
      "cell_type": "code",
      "source": [
        "from sklearn.model_selection import cross_val_score\n",
        "from sklearn import svm"
      ],
      "metadata": {
        "id": "xg0jHBs-rMBo"
      },
      "execution_count": null,
      "outputs": []
    },
    {
      "cell_type": "markdown",
      "source": [
        "linear svm"
      ],
      "metadata": {
        "id": "MsSpBFjOtFh1"
      }
    },
    {
      "cell_type": "code",
      "source": [
        "svc = svm.SVC(kernel = 'linear')\n",
        "print('svm_linear:\\n')\n",
        "for i in range(5):\n",
        "  score = cross_val_score( svc, pandas_normalize_eeg_features, pandas_median_lable[i], cv = 25)\n",
        "  results['svm_linear'][i] = score.mean()\n",
        "  print(index_to_personality_traits[i], index_to_tab[i], '\\t:', score.mean())"
      ],
      "metadata": {
        "colab": {
          "base_uri": "https://localhost:8080/"
        },
        "id": "R_D8ToEOtDlH",
        "outputId": "2b6541d8-8c4d-4034-b852-4ce1e927847b"
      },
      "execution_count": null,
      "outputs": [
        {
          "output_type": "stream",
          "name": "stdout",
          "text": [
            "svm_linear:\n",
            "\n",
            "Extraversion \t \t: 0.6933333333333332\n",
            "Agreeableness \t \t: 0.44\n",
            "Conscientiousness  \t: 0.5333333333333333\n",
            "Emotional Stability  \t: 0.5466666666666666\n",
            "Openness \t \t: 0.48\n"
          ]
        }
      ]
    },
    {
      "cell_type": "markdown",
      "source": [
        "rbf svm"
      ],
      "metadata": {
        "id": "TGiipYw35pXl"
      }
    },
    {
      "cell_type": "code",
      "source": [
        "svc = svm.SVC(kernel = 'rbf')\n",
        "print('svm_rbf:\\n')\n",
        "for i in range(5):\n",
        "  score = cross_val_score( svc, pandas_normalize_eeg_features, pandas_median_lable[i], cv = 25)\n",
        "  results['svm_rbf'][i] = score.mean()\n",
        "  print(index_to_personality_traits[i], index_to_tab[i], '\\t:', score.mean())"
      ],
      "metadata": {
        "colab": {
          "base_uri": "https://localhost:8080/"
        },
        "id": "KixEQp-05oca",
        "outputId": "d29df39e-d5dd-47ea-9c2a-84a956a231fc"
      },
      "execution_count": null,
      "outputs": [
        {
          "output_type": "stream",
          "name": "stdout",
          "text": [
            "svm_rbf:\n",
            "\n",
            "Extraversion \t \t: 0.66\n",
            "Agreeableness \t \t: 0.5\n",
            "Conscientiousness  \t: 0.5266666666666666\n",
            "Emotional Stability  \t: 0.5133333333333333\n",
            "Openness \t \t: 0.5533333333333332\n"
          ]
        }
      ]
    },
    {
      "cell_type": "markdown",
      "source": [
        "## Naive Bayes"
      ],
      "metadata": {
        "id": "1oAWK3c5qoRC"
      }
    },
    {
      "cell_type": "markdown",
      "source": [
        "gaussian naive bayes"
      ],
      "metadata": {
        "id": "_13Mg4Oj6EE_"
      }
    },
    {
      "cell_type": "code",
      "source": [
        "from sklearn.naive_bayes import GaussianNB"
      ],
      "metadata": {
        "id": "XgKF5QQW6F1l"
      },
      "execution_count": null,
      "outputs": []
    },
    {
      "cell_type": "code",
      "source": [
        "gnb = GaussianNB()\n",
        "print('naive_bayes_gaussian:\\n')\n",
        "for i in range(5):\n",
        "  score = cross_val_score( gnb, pandas_normalize_eeg_features, pandas_median_lable[i], cv = 25)\n",
        "  results['naive_bayes_gaussian'][i] = score.mean()\n",
        "  print(index_to_personality_traits[i], index_to_tab[i], '\\t:', score.mean())"
      ],
      "metadata": {
        "colab": {
          "base_uri": "https://localhost:8080/"
        },
        "id": "bnr32IltrMg2",
        "outputId": "a4756032-ab38-4555-ebff-ffcd23c15684"
      },
      "execution_count": null,
      "outputs": [
        {
          "output_type": "stream",
          "name": "stdout",
          "text": [
            "naive_bayes_gaussian:\n",
            "\n",
            "Extraversion \t \t: 0.58\n",
            "Agreeableness \t \t: 0.44666666666666666\n",
            "Conscientiousness  \t: 0.4733333333333333\n",
            "Emotional Stability  \t: 0.5\n",
            "Openness \t \t: 0.48666666666666664\n"
          ]
        }
      ]
    },
    {
      "cell_type": "markdown",
      "source": [
        "multinomial naive bayes"
      ],
      "metadata": {
        "id": "aJ_wl3E26FBN"
      }
    },
    {
      "cell_type": "code",
      "source": [
        "from sklearn.naive_bayes import MultinomialNB"
      ],
      "metadata": {
        "id": "IdnE3NzL6HMN"
      },
      "execution_count": null,
      "outputs": []
    },
    {
      "cell_type": "code",
      "source": [
        "mnb = MultinomialNB(alpha=3)\n",
        "print('naive_bayes_multinomial:\\n')\n",
        "for i in range(5):\n",
        "  score = cross_val_score( mnb, pandas_normalize_eeg_features, pandas_median_lable[i], cv = 25)\n",
        "  results['naive_bayes_multinomial'][i] = score.mean()\n",
        "  print(index_to_personality_traits[i], index_to_tab[i], '\\t:', score.mean())"
      ],
      "metadata": {
        "colab": {
          "base_uri": "https://localhost:8080/"
        },
        "id": "mbclUi1P6HTQ",
        "outputId": "ccdc8b61-3f2e-402b-f87b-bfdee588c7f8"
      },
      "execution_count": null,
      "outputs": [
        {
          "output_type": "stream",
          "name": "stdout",
          "text": [
            "naive_bayes_multinomial:\n",
            "\n",
            "Extraversion \t \t: 0.6866666666666665\n",
            "Agreeableness \t \t: 0.38\n",
            "Conscientiousness  \t: 0.4333333333333333\n",
            "Emotional Stability  \t: 0.5266666666666666\n",
            "Openness \t \t: 0.5266666666666666\n"
          ]
        }
      ]
    },
    {
      "cell_type": "markdown",
      "source": [
        "## Random forest"
      ],
      "metadata": {
        "id": "8t7rBgcXqom0"
      }
    },
    {
      "cell_type": "code",
      "source": [
        "from sklearn.ensemble import RandomForestClassifier"
      ],
      "metadata": {
        "id": "NcncsfmYrM_M"
      },
      "execution_count": null,
      "outputs": []
    },
    {
      "cell_type": "code",
      "source": [
        "rfc = RandomForestClassifier(n_estimators=10000)\n",
        "print('random_forest:\\n')\n",
        "for i in range(5):\n",
        "  score = cross_val_score( rfc, pandas_normalize_eeg_features, pandas_median_lable[i], cv = 25)\n",
        "  results['random_forest'][i] = score.mean()\n",
        "  print(index_to_personality_traits[i], index_to_tab[i], '\\t:', score.mean())"
      ],
      "metadata": {
        "id": "ABRvreJsggiz",
        "colab": {
          "base_uri": "https://localhost:8080/"
        },
        "outputId": "6d6bef09-8793-44d5-d167-2da4b940d0e1"
      },
      "execution_count": null,
      "outputs": [
        {
          "output_type": "stream",
          "name": "stdout",
          "text": [
            "random_forest:\n",
            "\n",
            "Extraversion \t \t: 0.6466666666666666\n",
            "Agreeableness \t \t: 0.5333333333333333\n",
            "Conscientiousness  \t: 0.5733333333333333\n",
            "Emotional Stability  \t: 0.46\n",
            "Openness \t \t: 0.58\n"
          ]
        }
      ]
    },
    {
      "cell_type": "markdown",
      "source": [
        "## Neural network"
      ],
      "metadata": {
        "id": "6mFcV-eKq0HM"
      }
    },
    {
      "cell_type": "code",
      "source": [
        "from sklearn.neural_network import MLPClassifier"
      ],
      "metadata": {
        "id": "y6o3hK3p5Lmn"
      },
      "execution_count": null,
      "outputs": []
    },
    {
      "cell_type": "code",
      "source": [
        "dp = MLPClassifier(solver='adam', alpha=1e-5,hidden_layer_sizes=(10), random_state=1,max_iter=10000, warm_start=True)\n",
        "print('neural_network:\\n')\n",
        "for i in range(5):\n",
        "  score = cross_val_score( dp, pandas_normalize_eeg_features, pandas_median_lable[i], cv = 25)\n",
        "  results['neural_network'][i] = score.mean()\n",
        "  print(index_to_personality_traits[i], index_to_tab[i], '\\t:', score.mean())"
      ],
      "metadata": {
        "colab": {
          "base_uri": "https://localhost:8080/"
        },
        "id": "Wv0Beyl3D5Pg",
        "outputId": "28855c52-1aa1-4c52-dabf-f7c99610ff0c"
      },
      "execution_count": null,
      "outputs": [
        {
          "output_type": "stream",
          "name": "stdout",
          "text": [
            "neural_network:\n",
            "\n",
            "Extraversion \t \t: 0.7133333333333333\n",
            "Agreeableness \t \t: 0.4\n",
            "Conscientiousness  \t: 0.54\n",
            "Emotional Stability  \t: 0.4666666666666666\n",
            "Openness \t \t: 0.5533333333333332\n"
          ]
        }
      ]
    },
    {
      "cell_type": "markdown",
      "source": [
        "## Logistic Regression"
      ],
      "metadata": {
        "id": "HnUEgmel47ok"
      }
    },
    {
      "cell_type": "code",
      "source": [
        "from sklearn.linear_model import LogisticRegression"
      ],
      "metadata": {
        "id": "_w68E_Ii5L-H"
      },
      "execution_count": null,
      "outputs": []
    },
    {
      "cell_type": "code",
      "source": [
        "lr = LogisticRegression(random_state=0, solver='lbfgs', max_iter=30000)\n",
        "print('logistic_regression:\\n')\n",
        "for i in range(5):\n",
        "  score = cross_val_score( lr, pandas_normalize_eeg_features, pandas_median_lable[i], cv = 25)\n",
        "  results['logistic_regression'][i] = score.mean()\n",
        "  print(index_to_personality_traits[i], index_to_tab[i], '\\t:', score.mean())"
      ],
      "metadata": {
        "colab": {
          "base_uri": "https://localhost:8080/"
        },
        "id": "Mawt6fjzD6ir",
        "outputId": "2b45952a-bf24-42d0-efed-5b7c5fe15172"
      },
      "execution_count": null,
      "outputs": [
        {
          "output_type": "stream",
          "name": "stdout",
          "text": [
            "logistic_regression:\n",
            "\n",
            "Extraversion \t \t: 0.6533333333333333\n",
            "Agreeableness \t \t: 0.44\n",
            "Conscientiousness  \t: 0.5333333333333333\n",
            "Emotional Stability  \t: 0.5466666666666666\n",
            "Openness \t \t: 0.48\n"
          ]
        }
      ]
    },
    {
      "cell_type": "markdown",
      "source": [
        "## K neighbors"
      ],
      "metadata": {
        "id": "ZpojxZ3E48c8"
      }
    },
    {
      "cell_type": "code",
      "source": [
        "from sklearn.neighbors import KNeighborsClassifier"
      ],
      "metadata": {
        "id": "d6P6kOe75MY4"
      },
      "execution_count": null,
      "outputs": []
    },
    {
      "cell_type": "code",
      "source": [
        "knn = KNeighborsClassifier(n_neighbors=19)\n",
        "print('k_neighbors:\\n')\n",
        "for i in range(5):\n",
        "  score = cross_val_score( knn, pandas_normalize_eeg_features, pandas_median_lable[i], cv = 25)\n",
        "  results['k_neighbors'][i] = score.mean()\n",
        "  print(index_to_personality_traits[i], index_to_tab[i], '\\t:', score.mean())"
      ],
      "metadata": {
        "colab": {
          "base_uri": "https://localhost:8080/"
        },
        "id": "CmIUhpA9D8B7",
        "outputId": "2e6c426e-fb63-44be-c8a7-4692eee4eeb9"
      },
      "execution_count": null,
      "outputs": [
        {
          "output_type": "stream",
          "name": "stdout",
          "text": [
            "k_neighbors:\n",
            "\n",
            "Extraversion \t \t: 0.6866666666666665\n",
            "Agreeableness \t \t: 0.54\n",
            "Conscientiousness  \t: 0.54\n",
            "Emotional Stability  \t: 0.54\n",
            "Openness \t \t: 0.5333333333333333\n"
          ]
        }
      ]
    },
    {
      "cell_type": "markdown",
      "source": [
        "# RESULTS"
      ],
      "metadata": {
        "id": "uoTks6ST49TM"
      }
    },
    {
      "cell_type": "code",
      "source": [
        "results_table = results.copy()\n",
        "results_table.index = results_table.index.map(index_to_personality_traits)"
      ],
      "metadata": {
        "id": "4z2qy2Ve7f5G"
      },
      "execution_count": null,
      "outputs": []
    },
    {
      "cell_type": "code",
      "source": [
        "results_table"
      ],
      "metadata": {
        "id": "6jVC6yq6uKLJ",
        "colab": {
          "base_uri": "https://localhost:8080/",
          "height": 206
        },
        "outputId": "b664b62f-31f0-4161-b600-17e132395b87"
      },
      "execution_count": null,
      "outputs": [
        {
          "output_type": "execute_result",
          "data": {
            "text/plain": [
              "                     svm_linear   svm_rbf  naive_bayes_gaussian  \\\n",
              "Extraversion           0.693333  0.660000              0.580000   \n",
              "Agreeableness          0.440000  0.500000              0.446667   \n",
              "Conscientiousness      0.533333  0.526667              0.473333   \n",
              "Emotional Stability    0.546667  0.513333              0.500000   \n",
              "Openness               0.480000  0.553333              0.486667   \n",
              "\n",
              "                     naive_bayes_multinomial  random_forest  neural_network  \\\n",
              "Extraversion                        0.686667       0.646667        0.713333   \n",
              "Agreeableness                       0.380000       0.533333        0.400000   \n",
              "Conscientiousness                   0.433333       0.573333        0.540000   \n",
              "Emotional Stability                 0.526667       0.460000        0.466667   \n",
              "Openness                            0.526667       0.580000        0.553333   \n",
              "\n",
              "                     logistic_regression  k_neighbors  \n",
              "Extraversion                    0.653333     0.686667  \n",
              "Agreeableness                   0.440000     0.540000  \n",
              "Conscientiousness               0.533333     0.540000  \n",
              "Emotional Stability             0.546667     0.540000  \n",
              "Openness                        0.480000     0.533333  "
            ],
            "text/html": [
              "\n",
              "  <div id=\"df-46e11f09-ff90-4049-8ee1-628718129e76\">\n",
              "    <div class=\"colab-df-container\">\n",
              "      <div>\n",
              "<style scoped>\n",
              "    .dataframe tbody tr th:only-of-type {\n",
              "        vertical-align: middle;\n",
              "    }\n",
              "\n",
              "    .dataframe tbody tr th {\n",
              "        vertical-align: top;\n",
              "    }\n",
              "\n",
              "    .dataframe thead th {\n",
              "        text-align: right;\n",
              "    }\n",
              "</style>\n",
              "<table border=\"1\" class=\"dataframe\">\n",
              "  <thead>\n",
              "    <tr style=\"text-align: right;\">\n",
              "      <th></th>\n",
              "      <th>svm_linear</th>\n",
              "      <th>svm_rbf</th>\n",
              "      <th>naive_bayes_gaussian</th>\n",
              "      <th>naive_bayes_multinomial</th>\n",
              "      <th>random_forest</th>\n",
              "      <th>neural_network</th>\n",
              "      <th>logistic_regression</th>\n",
              "      <th>k_neighbors</th>\n",
              "    </tr>\n",
              "  </thead>\n",
              "  <tbody>\n",
              "    <tr>\n",
              "      <th>Extraversion</th>\n",
              "      <td>0.693333</td>\n",
              "      <td>0.660000</td>\n",
              "      <td>0.580000</td>\n",
              "      <td>0.686667</td>\n",
              "      <td>0.646667</td>\n",
              "      <td>0.713333</td>\n",
              "      <td>0.653333</td>\n",
              "      <td>0.686667</td>\n",
              "    </tr>\n",
              "    <tr>\n",
              "      <th>Agreeableness</th>\n",
              "      <td>0.440000</td>\n",
              "      <td>0.500000</td>\n",
              "      <td>0.446667</td>\n",
              "      <td>0.380000</td>\n",
              "      <td>0.533333</td>\n",
              "      <td>0.400000</td>\n",
              "      <td>0.440000</td>\n",
              "      <td>0.540000</td>\n",
              "    </tr>\n",
              "    <tr>\n",
              "      <th>Conscientiousness</th>\n",
              "      <td>0.533333</td>\n",
              "      <td>0.526667</td>\n",
              "      <td>0.473333</td>\n",
              "      <td>0.433333</td>\n",
              "      <td>0.573333</td>\n",
              "      <td>0.540000</td>\n",
              "      <td>0.533333</td>\n",
              "      <td>0.540000</td>\n",
              "    </tr>\n",
              "    <tr>\n",
              "      <th>Emotional Stability</th>\n",
              "      <td>0.546667</td>\n",
              "      <td>0.513333</td>\n",
              "      <td>0.500000</td>\n",
              "      <td>0.526667</td>\n",
              "      <td>0.460000</td>\n",
              "      <td>0.466667</td>\n",
              "      <td>0.546667</td>\n",
              "      <td>0.540000</td>\n",
              "    </tr>\n",
              "    <tr>\n",
              "      <th>Openness</th>\n",
              "      <td>0.480000</td>\n",
              "      <td>0.553333</td>\n",
              "      <td>0.486667</td>\n",
              "      <td>0.526667</td>\n",
              "      <td>0.580000</td>\n",
              "      <td>0.553333</td>\n",
              "      <td>0.480000</td>\n",
              "      <td>0.533333</td>\n",
              "    </tr>\n",
              "  </tbody>\n",
              "</table>\n",
              "</div>\n",
              "      <button class=\"colab-df-convert\" onclick=\"convertToInteractive('df-46e11f09-ff90-4049-8ee1-628718129e76')\"\n",
              "              title=\"Convert this dataframe to an interactive table.\"\n",
              "              style=\"display:none;\">\n",
              "        \n",
              "  <svg xmlns=\"http://www.w3.org/2000/svg\" height=\"24px\"viewBox=\"0 0 24 24\"\n",
              "       width=\"24px\">\n",
              "    <path d=\"M0 0h24v24H0V0z\" fill=\"none\"/>\n",
              "    <path d=\"M18.56 5.44l.94 2.06.94-2.06 2.06-.94-2.06-.94-.94-2.06-.94 2.06-2.06.94zm-11 1L8.5 8.5l.94-2.06 2.06-.94-2.06-.94L8.5 2.5l-.94 2.06-2.06.94zm10 10l.94 2.06.94-2.06 2.06-.94-2.06-.94-.94-2.06-.94 2.06-2.06.94z\"/><path d=\"M17.41 7.96l-1.37-1.37c-.4-.4-.92-.59-1.43-.59-.52 0-1.04.2-1.43.59L10.3 9.45l-7.72 7.72c-.78.78-.78 2.05 0 2.83L4 21.41c.39.39.9.59 1.41.59.51 0 1.02-.2 1.41-.59l7.78-7.78 2.81-2.81c.8-.78.8-2.07 0-2.86zM5.41 20L4 18.59l7.72-7.72 1.47 1.35L5.41 20z\"/>\n",
              "  </svg>\n",
              "      </button>\n",
              "      \n",
              "  <style>\n",
              "    .colab-df-container {\n",
              "      display:flex;\n",
              "      flex-wrap:wrap;\n",
              "      gap: 12px;\n",
              "    }\n",
              "\n",
              "    .colab-df-convert {\n",
              "      background-color: #E8F0FE;\n",
              "      border: none;\n",
              "      border-radius: 50%;\n",
              "      cursor: pointer;\n",
              "      display: none;\n",
              "      fill: #1967D2;\n",
              "      height: 32px;\n",
              "      padding: 0 0 0 0;\n",
              "      width: 32px;\n",
              "    }\n",
              "\n",
              "    .colab-df-convert:hover {\n",
              "      background-color: #E2EBFA;\n",
              "      box-shadow: 0px 1px 2px rgba(60, 64, 67, 0.3), 0px 1px 3px 1px rgba(60, 64, 67, 0.15);\n",
              "      fill: #174EA6;\n",
              "    }\n",
              "\n",
              "    [theme=dark] .colab-df-convert {\n",
              "      background-color: #3B4455;\n",
              "      fill: #D2E3FC;\n",
              "    }\n",
              "\n",
              "    [theme=dark] .colab-df-convert:hover {\n",
              "      background-color: #434B5C;\n",
              "      box-shadow: 0px 1px 3px 1px rgba(0, 0, 0, 0.15);\n",
              "      filter: drop-shadow(0px 1px 2px rgba(0, 0, 0, 0.3));\n",
              "      fill: #FFFFFF;\n",
              "    }\n",
              "  </style>\n",
              "\n",
              "      <script>\n",
              "        const buttonEl =\n",
              "          document.querySelector('#df-46e11f09-ff90-4049-8ee1-628718129e76 button.colab-df-convert');\n",
              "        buttonEl.style.display =\n",
              "          google.colab.kernel.accessAllowed ? 'block' : 'none';\n",
              "\n",
              "        async function convertToInteractive(key) {\n",
              "          const element = document.querySelector('#df-46e11f09-ff90-4049-8ee1-628718129e76');\n",
              "          const dataTable =\n",
              "            await google.colab.kernel.invokeFunction('convertToInteractive',\n",
              "                                                     [key], {});\n",
              "          if (!dataTable) return;\n",
              "\n",
              "          const docLinkHtml = 'Like what you see? Visit the ' +\n",
              "            '<a target=\"_blank\" href=https://colab.research.google.com/notebooks/data_table.ipynb>data table notebook</a>'\n",
              "            + ' to learn more about interactive tables.';\n",
              "          element.innerHTML = '';\n",
              "          dataTable['output_type'] = 'display_data';\n",
              "          await google.colab.output.renderOutput(dataTable, element);\n",
              "          const docLink = document.createElement('div');\n",
              "          docLink.innerHTML = docLinkHtml;\n",
              "          element.appendChild(docLink);\n",
              "        }\n",
              "      </script>\n",
              "    </div>\n",
              "  </div>\n",
              "  "
            ]
          },
          "metadata": {},
          "execution_count": 46
        }
      ]
    },
    {
      "cell_type": "code",
      "source": [
        "results_table.transpose()"
      ],
      "metadata": {
        "id": "kR-ipkpw_eIu",
        "colab": {
          "base_uri": "https://localhost:8080/",
          "height": 300
        },
        "outputId": "ca8bba30-379b-44f1-b6ab-c0a33d716708"
      },
      "execution_count": null,
      "outputs": [
        {
          "output_type": "execute_result",
          "data": {
            "text/plain": [
              "                         Extraversion  Agreeableness  Conscientiousness  \\\n",
              "svm_linear                   0.693333       0.440000           0.533333   \n",
              "svm_rbf                      0.660000       0.500000           0.526667   \n",
              "naive_bayes_gaussian         0.580000       0.446667           0.473333   \n",
              "naive_bayes_multinomial      0.686667       0.380000           0.433333   \n",
              "random_forest                0.646667       0.533333           0.573333   \n",
              "neural_network               0.713333       0.400000           0.540000   \n",
              "logistic_regression          0.653333       0.440000           0.533333   \n",
              "k_neighbors                  0.686667       0.540000           0.540000   \n",
              "\n",
              "                         Emotional Stability  Openness  \n",
              "svm_linear                          0.546667  0.480000  \n",
              "svm_rbf                             0.513333  0.553333  \n",
              "naive_bayes_gaussian                0.500000  0.486667  \n",
              "naive_bayes_multinomial             0.526667  0.526667  \n",
              "random_forest                       0.460000  0.580000  \n",
              "neural_network                      0.466667  0.553333  \n",
              "logistic_regression                 0.546667  0.480000  \n",
              "k_neighbors                         0.540000  0.533333  "
            ],
            "text/html": [
              "\n",
              "  <div id=\"df-df3ffb43-5fe3-4f5b-ba4e-e4885c836f04\">\n",
              "    <div class=\"colab-df-container\">\n",
              "      <div>\n",
              "<style scoped>\n",
              "    .dataframe tbody tr th:only-of-type {\n",
              "        vertical-align: middle;\n",
              "    }\n",
              "\n",
              "    .dataframe tbody tr th {\n",
              "        vertical-align: top;\n",
              "    }\n",
              "\n",
              "    .dataframe thead th {\n",
              "        text-align: right;\n",
              "    }\n",
              "</style>\n",
              "<table border=\"1\" class=\"dataframe\">\n",
              "  <thead>\n",
              "    <tr style=\"text-align: right;\">\n",
              "      <th></th>\n",
              "      <th>Extraversion</th>\n",
              "      <th>Agreeableness</th>\n",
              "      <th>Conscientiousness</th>\n",
              "      <th>Emotional Stability</th>\n",
              "      <th>Openness</th>\n",
              "    </tr>\n",
              "  </thead>\n",
              "  <tbody>\n",
              "    <tr>\n",
              "      <th>svm_linear</th>\n",
              "      <td>0.693333</td>\n",
              "      <td>0.440000</td>\n",
              "      <td>0.533333</td>\n",
              "      <td>0.546667</td>\n",
              "      <td>0.480000</td>\n",
              "    </tr>\n",
              "    <tr>\n",
              "      <th>svm_rbf</th>\n",
              "      <td>0.660000</td>\n",
              "      <td>0.500000</td>\n",
              "      <td>0.526667</td>\n",
              "      <td>0.513333</td>\n",
              "      <td>0.553333</td>\n",
              "    </tr>\n",
              "    <tr>\n",
              "      <th>naive_bayes_gaussian</th>\n",
              "      <td>0.580000</td>\n",
              "      <td>0.446667</td>\n",
              "      <td>0.473333</td>\n",
              "      <td>0.500000</td>\n",
              "      <td>0.486667</td>\n",
              "    </tr>\n",
              "    <tr>\n",
              "      <th>naive_bayes_multinomial</th>\n",
              "      <td>0.686667</td>\n",
              "      <td>0.380000</td>\n",
              "      <td>0.433333</td>\n",
              "      <td>0.526667</td>\n",
              "      <td>0.526667</td>\n",
              "    </tr>\n",
              "    <tr>\n",
              "      <th>random_forest</th>\n",
              "      <td>0.646667</td>\n",
              "      <td>0.533333</td>\n",
              "      <td>0.573333</td>\n",
              "      <td>0.460000</td>\n",
              "      <td>0.580000</td>\n",
              "    </tr>\n",
              "    <tr>\n",
              "      <th>neural_network</th>\n",
              "      <td>0.713333</td>\n",
              "      <td>0.400000</td>\n",
              "      <td>0.540000</td>\n",
              "      <td>0.466667</td>\n",
              "      <td>0.553333</td>\n",
              "    </tr>\n",
              "    <tr>\n",
              "      <th>logistic_regression</th>\n",
              "      <td>0.653333</td>\n",
              "      <td>0.440000</td>\n",
              "      <td>0.533333</td>\n",
              "      <td>0.546667</td>\n",
              "      <td>0.480000</td>\n",
              "    </tr>\n",
              "    <tr>\n",
              "      <th>k_neighbors</th>\n",
              "      <td>0.686667</td>\n",
              "      <td>0.540000</td>\n",
              "      <td>0.540000</td>\n",
              "      <td>0.540000</td>\n",
              "      <td>0.533333</td>\n",
              "    </tr>\n",
              "  </tbody>\n",
              "</table>\n",
              "</div>\n",
              "      <button class=\"colab-df-convert\" onclick=\"convertToInteractive('df-df3ffb43-5fe3-4f5b-ba4e-e4885c836f04')\"\n",
              "              title=\"Convert this dataframe to an interactive table.\"\n",
              "              style=\"display:none;\">\n",
              "        \n",
              "  <svg xmlns=\"http://www.w3.org/2000/svg\" height=\"24px\"viewBox=\"0 0 24 24\"\n",
              "       width=\"24px\">\n",
              "    <path d=\"M0 0h24v24H0V0z\" fill=\"none\"/>\n",
              "    <path d=\"M18.56 5.44l.94 2.06.94-2.06 2.06-.94-2.06-.94-.94-2.06-.94 2.06-2.06.94zm-11 1L8.5 8.5l.94-2.06 2.06-.94-2.06-.94L8.5 2.5l-.94 2.06-2.06.94zm10 10l.94 2.06.94-2.06 2.06-.94-2.06-.94-.94-2.06-.94 2.06-2.06.94z\"/><path d=\"M17.41 7.96l-1.37-1.37c-.4-.4-.92-.59-1.43-.59-.52 0-1.04.2-1.43.59L10.3 9.45l-7.72 7.72c-.78.78-.78 2.05 0 2.83L4 21.41c.39.39.9.59 1.41.59.51 0 1.02-.2 1.41-.59l7.78-7.78 2.81-2.81c.8-.78.8-2.07 0-2.86zM5.41 20L4 18.59l7.72-7.72 1.47 1.35L5.41 20z\"/>\n",
              "  </svg>\n",
              "      </button>\n",
              "      \n",
              "  <style>\n",
              "    .colab-df-container {\n",
              "      display:flex;\n",
              "      flex-wrap:wrap;\n",
              "      gap: 12px;\n",
              "    }\n",
              "\n",
              "    .colab-df-convert {\n",
              "      background-color: #E8F0FE;\n",
              "      border: none;\n",
              "      border-radius: 50%;\n",
              "      cursor: pointer;\n",
              "      display: none;\n",
              "      fill: #1967D2;\n",
              "      height: 32px;\n",
              "      padding: 0 0 0 0;\n",
              "      width: 32px;\n",
              "    }\n",
              "\n",
              "    .colab-df-convert:hover {\n",
              "      background-color: #E2EBFA;\n",
              "      box-shadow: 0px 1px 2px rgba(60, 64, 67, 0.3), 0px 1px 3px 1px rgba(60, 64, 67, 0.15);\n",
              "      fill: #174EA6;\n",
              "    }\n",
              "\n",
              "    [theme=dark] .colab-df-convert {\n",
              "      background-color: #3B4455;\n",
              "      fill: #D2E3FC;\n",
              "    }\n",
              "\n",
              "    [theme=dark] .colab-df-convert:hover {\n",
              "      background-color: #434B5C;\n",
              "      box-shadow: 0px 1px 3px 1px rgba(0, 0, 0, 0.15);\n",
              "      filter: drop-shadow(0px 1px 2px rgba(0, 0, 0, 0.3));\n",
              "      fill: #FFFFFF;\n",
              "    }\n",
              "  </style>\n",
              "\n",
              "      <script>\n",
              "        const buttonEl =\n",
              "          document.querySelector('#df-df3ffb43-5fe3-4f5b-ba4e-e4885c836f04 button.colab-df-convert');\n",
              "        buttonEl.style.display =\n",
              "          google.colab.kernel.accessAllowed ? 'block' : 'none';\n",
              "\n",
              "        async function convertToInteractive(key) {\n",
              "          const element = document.querySelector('#df-df3ffb43-5fe3-4f5b-ba4e-e4885c836f04');\n",
              "          const dataTable =\n",
              "            await google.colab.kernel.invokeFunction('convertToInteractive',\n",
              "                                                     [key], {});\n",
              "          if (!dataTable) return;\n",
              "\n",
              "          const docLinkHtml = 'Like what you see? Visit the ' +\n",
              "            '<a target=\"_blank\" href=https://colab.research.google.com/notebooks/data_table.ipynb>data table notebook</a>'\n",
              "            + ' to learn more about interactive tables.';\n",
              "          element.innerHTML = '';\n",
              "          dataTable['output_type'] = 'display_data';\n",
              "          await google.colab.output.renderOutput(dataTable, element);\n",
              "          const docLink = document.createElement('div');\n",
              "          docLink.innerHTML = docLinkHtml;\n",
              "          element.appendChild(docLink);\n",
              "        }\n",
              "      </script>\n",
              "    </div>\n",
              "  </div>\n",
              "  "
            ]
          },
          "metadata": {},
          "execution_count": 47
        }
      ]
    },
    {
      "cell_type": "markdown",
      "source": [
        "# REGRESSION"
      ],
      "metadata": {
        "id": "8bDTkAYgXSa_"
      }
    },
    {
      "cell_type": "markdown",
      "source": [
        "## make train and test"
      ],
      "metadata": {
        "id": "I2iivJSVimdt"
      }
    },
    {
      "cell_type": "markdown",
      "source": [
        "train"
      ],
      "metadata": {
        "id": "lqB2lPqejnxt"
      }
    },
    {
      "cell_type": "code",
      "source": [
        "regr_train_x = pandas_new_eeg_features[0:40][0:88]\n",
        "regr_train_y = pandas_personality[0:40]"
      ],
      "metadata": {
        "id": "3_Fc05pWiqh4"
      },
      "execution_count": null,
      "outputs": []
    },
    {
      "cell_type": "markdown",
      "source": [
        "test"
      ],
      "metadata": {
        "id": "Rv2ddFFg9f7k"
      }
    },
    {
      "cell_type": "code",
      "source": [
        "regr_test_x = pandas_new_eeg_features[40:][0:88]\n",
        "regr_test_y = pandas_personality[40:]"
      ],
      "metadata": {
        "id": "rhOGnrJE9gMs"
      },
      "execution_count": null,
      "outputs": []
    },
    {
      "cell_type": "markdown",
      "source": [
        "## make extra data for feed"
      ],
      "metadata": {
        "id": "qU5tMB02uzv-"
      }
    },
    {
      "cell_type": "markdown",
      "source": [
        "real data"
      ],
      "metadata": {
        "id": "TeOI7pwL8R-H"
      }
    },
    {
      "cell_type": "code",
      "source": [
        "regr_extra_data_x = regr_train_x.copy()\n",
        "regr_extra_data_y = regr_train_y.copy()"
      ],
      "metadata": {
        "id": "oa_rOZChu44G"
      },
      "execution_count": null,
      "outputs": []
    },
    {
      "cell_type": "markdown",
      "source": [
        "x out of 36"
      ],
      "metadata": {
        "id": "3o5sfrdrffqd"
      }
    },
    {
      "cell_type": "code",
      "source": [
        "from numpy import random"
      ],
      "metadata": {
        "id": "qsv0ieixBtxP"
      },
      "execution_count": null,
      "outputs": []
    },
    {
      "cell_type": "code",
      "source": [
        "number_of_samples = 5000\n",
        "for samples in range(number_of_samples):\n",
        "  x = random.randint(36)\n",
        "  num = random.randint(len(regr_train_x))\n",
        "  lst = list(range(36))\n",
        "  random.shuffle(lst)\n",
        "\n",
        "  data_to_append = {}\n",
        "  for cnt in range(len(regr_train_x.columns)):\n",
        "    if (cnt % 88) in lst[0:x]:\n",
        "      data_to_append[regr_train_x.columns[cnt]] = 0\n",
        "    else:\n",
        "      data_to_append[regr_train_x.columns[cnt]] = regr_train_x[cnt % 88][num]\n",
        "  regr_extra_data_x = regr_extra_data_x.append(data_to_append, ignore_index = True)\n",
        "  regr_extra_data_y = regr_extra_data_y.append(regr_train_y.iloc[[num]], ignore_index = True)"
      ],
      "metadata": {
        "id": "2s30ewFHfe9g"
      },
      "execution_count": null,
      "outputs": []
    },
    {
      "cell_type": "markdown",
      "source": [
        "real data copies"
      ],
      "metadata": {
        "id": "_Ho2sYX-8PoK"
      }
    },
    {
      "cell_type": "code",
      "source": [
        "samples = 10\n",
        "for i in range(samples):\n",
        "  regr_extra_data_x = regr_extra_data_x.append(regr_train_x, ignore_index = True)\n",
        "  regr_extra_data_y = regr_extra_data_y.append(regr_train_y, ignore_index = True)"
      ],
      "metadata": {
        "id": "Bx5jtAgk3BYR",
        "colab": {
          "base_uri": "https://localhost:8080/",
          "height": 218
        },
        "outputId": "965b43d7-bf8e-4cae-cec1-6afa90acd4bc"
      },
      "execution_count": null,
      "outputs": [
        {
          "output_type": "error",
          "ename": "NameError",
          "evalue": "ignored",
          "traceback": [
            "\u001b[0;31m---------------------------------------------------------------------------\u001b[0m",
            "\u001b[0;31mNameError\u001b[0m                                 Traceback (most recent call last)",
            "\u001b[0;32m<ipython-input-1-93670090a770>\u001b[0m in \u001b[0;36m<module>\u001b[0;34m()\u001b[0m\n\u001b[1;32m      1\u001b[0m \u001b[0msamples\u001b[0m \u001b[0;34m=\u001b[0m \u001b[0;36m10\u001b[0m\u001b[0;34m\u001b[0m\u001b[0;34m\u001b[0m\u001b[0m\n\u001b[1;32m      2\u001b[0m \u001b[0;32mfor\u001b[0m \u001b[0mi\u001b[0m \u001b[0;32min\u001b[0m \u001b[0mrange\u001b[0m\u001b[0;34m(\u001b[0m\u001b[0msamples\u001b[0m\u001b[0;34m)\u001b[0m\u001b[0;34m:\u001b[0m\u001b[0;34m\u001b[0m\u001b[0;34m\u001b[0m\u001b[0m\n\u001b[0;32m----> 3\u001b[0;31m   \u001b[0mregr_extra_data_x\u001b[0m \u001b[0;34m=\u001b[0m \u001b[0mregr_extra_data_x\u001b[0m\u001b[0;34m.\u001b[0m\u001b[0mappend\u001b[0m\u001b[0;34m(\u001b[0m\u001b[0mregr_train_x\u001b[0m\u001b[0;34m,\u001b[0m \u001b[0mignore_index\u001b[0m \u001b[0;34m=\u001b[0m \u001b[0;32mTrue\u001b[0m\u001b[0;34m)\u001b[0m\u001b[0;34m\u001b[0m\u001b[0;34m\u001b[0m\u001b[0m\n\u001b[0m\u001b[1;32m      4\u001b[0m   \u001b[0mregr_extra_data_y\u001b[0m \u001b[0;34m=\u001b[0m \u001b[0mregr_extra_data_y\u001b[0m\u001b[0;34m.\u001b[0m\u001b[0mappend\u001b[0m\u001b[0;34m(\u001b[0m\u001b[0mregr_train_y\u001b[0m\u001b[0;34m,\u001b[0m \u001b[0mignore_index\u001b[0m \u001b[0;34m=\u001b[0m \u001b[0;32mTrue\u001b[0m\u001b[0;34m)\u001b[0m\u001b[0;34m\u001b[0m\u001b[0;34m\u001b[0m\u001b[0m\n",
            "\u001b[0;31mNameError\u001b[0m: name 'regr_extra_data_x' is not defined"
          ]
        }
      ]
    },
    {
      "cell_type": "markdown",
      "source": [
        "## show regr_extra_data_train"
      ],
      "metadata": {
        "id": "aEQG5JeO4IOv"
      }
    },
    {
      "cell_type": "code",
      "source": [
        "regr_extra_data_x"
      ],
      "metadata": {
        "colab": {
          "base_uri": "https://localhost:8080/"
        },
        "id": "r4IptZtB4OZ_",
        "outputId": "4d82fdfb-e46a-465e-9324-a5830df2dc00"
      },
      "execution_count": null,
      "outputs": [
        {
          "output_type": "execute_result",
          "data": {
            "text/plain": [
              "            0           1         2         3         4         5     \\\n",
              "0     320.191443   82.717586  0.622098  8.653932  0.118051  0.103685   \n",
              "1     320.654279   43.335374  0.017898  5.028319  0.133666  0.146159   \n",
              "2     325.104934  114.114679  1.175495  9.812147  0.088070  0.089944   \n",
              "3     317.878201  143.475261  0.716292  5.650146  0.114928  0.128670   \n",
              "4     319.445971   50.873505 -1.387409  8.310769  0.078076  0.111805   \n",
              "...          ...         ...       ...       ...       ...       ...   \n",
              "5035  339.759838    0.000000  0.582543  3.830769  0.172392  0.086821   \n",
              "5036    0.000000  176.859114  0.167600  2.785957  0.000000  0.000000   \n",
              "5037    0.000000    0.000000  0.000000  0.000000  0.000000  0.000000   \n",
              "5038  340.243285  160.628762  0.000000  0.000000  0.126171  0.120550   \n",
              "5039  320.983760    0.000000  0.000000  0.000000  0.000000  0.000000   \n",
              "\n",
              "          6         7         8         9     ...        3158      3159  \\\n",
              "0    -0.035643  0.490625  0.719550  0.277515  ...   47.426752  1.067962   \n",
              "1     0.010669  0.490000  0.539663 -0.094304  ...   28.687590  0.961289   \n",
              "2    -0.044397  0.528125  0.679575  0.508821  ...   69.561561  0.504377   \n",
              "3    -0.054897  0.508125  0.799500  0.607019  ...   99.998150  0.764074   \n",
              "4     0.012549  0.505000  0.339788 -0.115373  ...   18.070774  0.412422   \n",
              "...        ...       ...       ...       ...  ...         ...       ...   \n",
              "5035 -0.153528  0.542500  0.379763  0.000000  ...   41.127319 -2.835412   \n",
              "5036  0.000000  0.521250  0.000000 -0.451179  ...  219.903697 -0.704062   \n",
              "5037  0.000000  0.000000  0.000000  0.000000  ...   60.983298  0.271648   \n",
              "5038  0.000000  0.501250  0.000000 -3.406307  ...  271.237641  1.335981   \n",
              "5039  0.000000  0.000000  0.000000 -0.310512  ...  138.949484  2.528774   \n",
              "\n",
              "          3160      3161      3162      3163      3164      3165       3166  \\\n",
              "0     4.037701  0.130543  0.153654 -0.034132  0.843750  0.019988   3.744179   \n",
              "1     2.504682  0.209869  0.003748 -0.006331  0.639375  0.139913  10.506138   \n",
              "2     2.403951  0.199875  0.182386 -0.007994  0.713750  0.079950   0.430625   \n",
              "3     2.515714  0.218613  0.154279 -0.080086  0.834375  0.059963   1.871295   \n",
              "4     2.188909  0.197377  0.290443 -0.015312  0.590625  0.019988  17.205056   \n",
              "...        ...       ...       ...       ...       ...       ...        ...   \n",
              "5035  9.945743  0.000000  0.109307 -0.120000  0.193125  0.000000   3.634794   \n",
              "5036  2.456265  0.000000  0.176765  0.272523  0.463125  0.059963  -0.930374   \n",
              "5037  2.047882  0.185509  0.170518 -0.013104  0.830625  0.059963   2.904388   \n",
              "5038  3.403402  0.160525  0.000000  0.465694  0.461250  0.099938 -10.111673   \n",
              "5039  7.881663  0.114928  0.000000  0.291312  0.561875  0.079950 -10.721825   \n",
              "\n",
              "          3167  \n",
              "0     0.039975  \n",
              "1     0.159900  \n",
              "2     0.079950  \n",
              "3     0.059963  \n",
              "4     0.039975  \n",
              "...        ...  \n",
              "5035  0.019988  \n",
              "5036  0.119925  \n",
              "5037  0.039975  \n",
              "5038  0.099938  \n",
              "5039  0.099938  \n",
              "\n",
              "[5040 rows x 3168 columns]"
            ],
            "text/html": [
              "\n",
              "  <div id=\"df-eb15ee30-4863-4604-8f9d-519201719c5f\">\n",
              "    <div class=\"colab-df-container\">\n",
              "      <div>\n",
              "<style scoped>\n",
              "    .dataframe tbody tr th:only-of-type {\n",
              "        vertical-align: middle;\n",
              "    }\n",
              "\n",
              "    .dataframe tbody tr th {\n",
              "        vertical-align: top;\n",
              "    }\n",
              "\n",
              "    .dataframe thead th {\n",
              "        text-align: right;\n",
              "    }\n",
              "</style>\n",
              "<table border=\"1\" class=\"dataframe\">\n",
              "  <thead>\n",
              "    <tr style=\"text-align: right;\">\n",
              "      <th></th>\n",
              "      <th>0</th>\n",
              "      <th>1</th>\n",
              "      <th>2</th>\n",
              "      <th>3</th>\n",
              "      <th>4</th>\n",
              "      <th>5</th>\n",
              "      <th>6</th>\n",
              "      <th>7</th>\n",
              "      <th>8</th>\n",
              "      <th>9</th>\n",
              "      <th>...</th>\n",
              "      <th>3158</th>\n",
              "      <th>3159</th>\n",
              "      <th>3160</th>\n",
              "      <th>3161</th>\n",
              "      <th>3162</th>\n",
              "      <th>3163</th>\n",
              "      <th>3164</th>\n",
              "      <th>3165</th>\n",
              "      <th>3166</th>\n",
              "      <th>3167</th>\n",
              "    </tr>\n",
              "  </thead>\n",
              "  <tbody>\n",
              "    <tr>\n",
              "      <th>0</th>\n",
              "      <td>320.191443</td>\n",
              "      <td>82.717586</td>\n",
              "      <td>0.622098</td>\n",
              "      <td>8.653932</td>\n",
              "      <td>0.118051</td>\n",
              "      <td>0.103685</td>\n",
              "      <td>-0.035643</td>\n",
              "      <td>0.490625</td>\n",
              "      <td>0.719550</td>\n",
              "      <td>0.277515</td>\n",
              "      <td>...</td>\n",
              "      <td>47.426752</td>\n",
              "      <td>1.067962</td>\n",
              "      <td>4.037701</td>\n",
              "      <td>0.130543</td>\n",
              "      <td>0.153654</td>\n",
              "      <td>-0.034132</td>\n",
              "      <td>0.843750</td>\n",
              "      <td>0.019988</td>\n",
              "      <td>3.744179</td>\n",
              "      <td>0.039975</td>\n",
              "    </tr>\n",
              "    <tr>\n",
              "      <th>1</th>\n",
              "      <td>320.654279</td>\n",
              "      <td>43.335374</td>\n",
              "      <td>0.017898</td>\n",
              "      <td>5.028319</td>\n",
              "      <td>0.133666</td>\n",
              "      <td>0.146159</td>\n",
              "      <td>0.010669</td>\n",
              "      <td>0.490000</td>\n",
              "      <td>0.539663</td>\n",
              "      <td>-0.094304</td>\n",
              "      <td>...</td>\n",
              "      <td>28.687590</td>\n",
              "      <td>0.961289</td>\n",
              "      <td>2.504682</td>\n",
              "      <td>0.209869</td>\n",
              "      <td>0.003748</td>\n",
              "      <td>-0.006331</td>\n",
              "      <td>0.639375</td>\n",
              "      <td>0.139913</td>\n",
              "      <td>10.506138</td>\n",
              "      <td>0.159900</td>\n",
              "    </tr>\n",
              "    <tr>\n",
              "      <th>2</th>\n",
              "      <td>325.104934</td>\n",
              "      <td>114.114679</td>\n",
              "      <td>1.175495</td>\n",
              "      <td>9.812147</td>\n",
              "      <td>0.088070</td>\n",
              "      <td>0.089944</td>\n",
              "      <td>-0.044397</td>\n",
              "      <td>0.528125</td>\n",
              "      <td>0.679575</td>\n",
              "      <td>0.508821</td>\n",
              "      <td>...</td>\n",
              "      <td>69.561561</td>\n",
              "      <td>0.504377</td>\n",
              "      <td>2.403951</td>\n",
              "      <td>0.199875</td>\n",
              "      <td>0.182386</td>\n",
              "      <td>-0.007994</td>\n",
              "      <td>0.713750</td>\n",
              "      <td>0.079950</td>\n",
              "      <td>0.430625</td>\n",
              "      <td>0.079950</td>\n",
              "    </tr>\n",
              "    <tr>\n",
              "      <th>3</th>\n",
              "      <td>317.878201</td>\n",
              "      <td>143.475261</td>\n",
              "      <td>0.716292</td>\n",
              "      <td>5.650146</td>\n",
              "      <td>0.114928</td>\n",
              "      <td>0.128670</td>\n",
              "      <td>-0.054897</td>\n",
              "      <td>0.508125</td>\n",
              "      <td>0.799500</td>\n",
              "      <td>0.607019</td>\n",
              "      <td>...</td>\n",
              "      <td>99.998150</td>\n",
              "      <td>0.764074</td>\n",
              "      <td>2.515714</td>\n",
              "      <td>0.218613</td>\n",
              "      <td>0.154279</td>\n",
              "      <td>-0.080086</td>\n",
              "      <td>0.834375</td>\n",
              "      <td>0.059963</td>\n",
              "      <td>1.871295</td>\n",
              "      <td>0.059963</td>\n",
              "    </tr>\n",
              "    <tr>\n",
              "      <th>4</th>\n",
              "      <td>319.445971</td>\n",
              "      <td>50.873505</td>\n",
              "      <td>-1.387409</td>\n",
              "      <td>8.310769</td>\n",
              "      <td>0.078076</td>\n",
              "      <td>0.111805</td>\n",
              "      <td>0.012549</td>\n",
              "      <td>0.505000</td>\n",
              "      <td>0.339788</td>\n",
              "      <td>-0.115373</td>\n",
              "      <td>...</td>\n",
              "      <td>18.070774</td>\n",
              "      <td>0.412422</td>\n",
              "      <td>2.188909</td>\n",
              "      <td>0.197377</td>\n",
              "      <td>0.290443</td>\n",
              "      <td>-0.015312</td>\n",
              "      <td>0.590625</td>\n",
              "      <td>0.019988</td>\n",
              "      <td>17.205056</td>\n",
              "      <td>0.039975</td>\n",
              "    </tr>\n",
              "    <tr>\n",
              "      <th>...</th>\n",
              "      <td>...</td>\n",
              "      <td>...</td>\n",
              "      <td>...</td>\n",
              "      <td>...</td>\n",
              "      <td>...</td>\n",
              "      <td>...</td>\n",
              "      <td>...</td>\n",
              "      <td>...</td>\n",
              "      <td>...</td>\n",
              "      <td>...</td>\n",
              "      <td>...</td>\n",
              "      <td>...</td>\n",
              "      <td>...</td>\n",
              "      <td>...</td>\n",
              "      <td>...</td>\n",
              "      <td>...</td>\n",
              "      <td>...</td>\n",
              "      <td>...</td>\n",
              "      <td>...</td>\n",
              "      <td>...</td>\n",
              "      <td>...</td>\n",
              "    </tr>\n",
              "    <tr>\n",
              "      <th>5035</th>\n",
              "      <td>339.759838</td>\n",
              "      <td>0.000000</td>\n",
              "      <td>0.582543</td>\n",
              "      <td>3.830769</td>\n",
              "      <td>0.172392</td>\n",
              "      <td>0.086821</td>\n",
              "      <td>-0.153528</td>\n",
              "      <td>0.542500</td>\n",
              "      <td>0.379763</td>\n",
              "      <td>0.000000</td>\n",
              "      <td>...</td>\n",
              "      <td>41.127319</td>\n",
              "      <td>-2.835412</td>\n",
              "      <td>9.945743</td>\n",
              "      <td>0.000000</td>\n",
              "      <td>0.109307</td>\n",
              "      <td>-0.120000</td>\n",
              "      <td>0.193125</td>\n",
              "      <td>0.000000</td>\n",
              "      <td>3.634794</td>\n",
              "      <td>0.019988</td>\n",
              "    </tr>\n",
              "    <tr>\n",
              "      <th>5036</th>\n",
              "      <td>0.000000</td>\n",
              "      <td>176.859114</td>\n",
              "      <td>0.167600</td>\n",
              "      <td>2.785957</td>\n",
              "      <td>0.000000</td>\n",
              "      <td>0.000000</td>\n",
              "      <td>0.000000</td>\n",
              "      <td>0.521250</td>\n",
              "      <td>0.000000</td>\n",
              "      <td>-0.451179</td>\n",
              "      <td>...</td>\n",
              "      <td>219.903697</td>\n",
              "      <td>-0.704062</td>\n",
              "      <td>2.456265</td>\n",
              "      <td>0.000000</td>\n",
              "      <td>0.176765</td>\n",
              "      <td>0.272523</td>\n",
              "      <td>0.463125</td>\n",
              "      <td>0.059963</td>\n",
              "      <td>-0.930374</td>\n",
              "      <td>0.119925</td>\n",
              "    </tr>\n",
              "    <tr>\n",
              "      <th>5037</th>\n",
              "      <td>0.000000</td>\n",
              "      <td>0.000000</td>\n",
              "      <td>0.000000</td>\n",
              "      <td>0.000000</td>\n",
              "      <td>0.000000</td>\n",
              "      <td>0.000000</td>\n",
              "      <td>0.000000</td>\n",
              "      <td>0.000000</td>\n",
              "      <td>0.000000</td>\n",
              "      <td>0.000000</td>\n",
              "      <td>...</td>\n",
              "      <td>60.983298</td>\n",
              "      <td>0.271648</td>\n",
              "      <td>2.047882</td>\n",
              "      <td>0.185509</td>\n",
              "      <td>0.170518</td>\n",
              "      <td>-0.013104</td>\n",
              "      <td>0.830625</td>\n",
              "      <td>0.059963</td>\n",
              "      <td>2.904388</td>\n",
              "      <td>0.039975</td>\n",
              "    </tr>\n",
              "    <tr>\n",
              "      <th>5038</th>\n",
              "      <td>340.243285</td>\n",
              "      <td>160.628762</td>\n",
              "      <td>0.000000</td>\n",
              "      <td>0.000000</td>\n",
              "      <td>0.126171</td>\n",
              "      <td>0.120550</td>\n",
              "      <td>0.000000</td>\n",
              "      <td>0.501250</td>\n",
              "      <td>0.000000</td>\n",
              "      <td>-3.406307</td>\n",
              "      <td>...</td>\n",
              "      <td>271.237641</td>\n",
              "      <td>1.335981</td>\n",
              "      <td>3.403402</td>\n",
              "      <td>0.160525</td>\n",
              "      <td>0.000000</td>\n",
              "      <td>0.465694</td>\n",
              "      <td>0.461250</td>\n",
              "      <td>0.099938</td>\n",
              "      <td>-10.111673</td>\n",
              "      <td>0.099938</td>\n",
              "    </tr>\n",
              "    <tr>\n",
              "      <th>5039</th>\n",
              "      <td>320.983760</td>\n",
              "      <td>0.000000</td>\n",
              "      <td>0.000000</td>\n",
              "      <td>0.000000</td>\n",
              "      <td>0.000000</td>\n",
              "      <td>0.000000</td>\n",
              "      <td>0.000000</td>\n",
              "      <td>0.000000</td>\n",
              "      <td>0.000000</td>\n",
              "      <td>-0.310512</td>\n",
              "      <td>...</td>\n",
              "      <td>138.949484</td>\n",
              "      <td>2.528774</td>\n",
              "      <td>7.881663</td>\n",
              "      <td>0.114928</td>\n",
              "      <td>0.000000</td>\n",
              "      <td>0.291312</td>\n",
              "      <td>0.561875</td>\n",
              "      <td>0.079950</td>\n",
              "      <td>-10.721825</td>\n",
              "      <td>0.099938</td>\n",
              "    </tr>\n",
              "  </tbody>\n",
              "</table>\n",
              "<p>5040 rows × 3168 columns</p>\n",
              "</div>\n",
              "      <button class=\"colab-df-convert\" onclick=\"convertToInteractive('df-eb15ee30-4863-4604-8f9d-519201719c5f')\"\n",
              "              title=\"Convert this dataframe to an interactive table.\"\n",
              "              style=\"display:none;\">\n",
              "        \n",
              "  <svg xmlns=\"http://www.w3.org/2000/svg\" height=\"24px\"viewBox=\"0 0 24 24\"\n",
              "       width=\"24px\">\n",
              "    <path d=\"M0 0h24v24H0V0z\" fill=\"none\"/>\n",
              "    <path d=\"M18.56 5.44l.94 2.06.94-2.06 2.06-.94-2.06-.94-.94-2.06-.94 2.06-2.06.94zm-11 1L8.5 8.5l.94-2.06 2.06-.94-2.06-.94L8.5 2.5l-.94 2.06-2.06.94zm10 10l.94 2.06.94-2.06 2.06-.94-2.06-.94-.94-2.06-.94 2.06-2.06.94z\"/><path d=\"M17.41 7.96l-1.37-1.37c-.4-.4-.92-.59-1.43-.59-.52 0-1.04.2-1.43.59L10.3 9.45l-7.72 7.72c-.78.78-.78 2.05 0 2.83L4 21.41c.39.39.9.59 1.41.59.51 0 1.02-.2 1.41-.59l7.78-7.78 2.81-2.81c.8-.78.8-2.07 0-2.86zM5.41 20L4 18.59l7.72-7.72 1.47 1.35L5.41 20z\"/>\n",
              "  </svg>\n",
              "      </button>\n",
              "      \n",
              "  <style>\n",
              "    .colab-df-container {\n",
              "      display:flex;\n",
              "      flex-wrap:wrap;\n",
              "      gap: 12px;\n",
              "    }\n",
              "\n",
              "    .colab-df-convert {\n",
              "      background-color: #E8F0FE;\n",
              "      border: none;\n",
              "      border-radius: 50%;\n",
              "      cursor: pointer;\n",
              "      display: none;\n",
              "      fill: #1967D2;\n",
              "      height: 32px;\n",
              "      padding: 0 0 0 0;\n",
              "      width: 32px;\n",
              "    }\n",
              "\n",
              "    .colab-df-convert:hover {\n",
              "      background-color: #E2EBFA;\n",
              "      box-shadow: 0px 1px 2px rgba(60, 64, 67, 0.3), 0px 1px 3px 1px rgba(60, 64, 67, 0.15);\n",
              "      fill: #174EA6;\n",
              "    }\n",
              "\n",
              "    [theme=dark] .colab-df-convert {\n",
              "      background-color: #3B4455;\n",
              "      fill: #D2E3FC;\n",
              "    }\n",
              "\n",
              "    [theme=dark] .colab-df-convert:hover {\n",
              "      background-color: #434B5C;\n",
              "      box-shadow: 0px 1px 3px 1px rgba(0, 0, 0, 0.15);\n",
              "      filter: drop-shadow(0px 1px 2px rgba(0, 0, 0, 0.3));\n",
              "      fill: #FFFFFF;\n",
              "    }\n",
              "  </style>\n",
              "\n",
              "      <script>\n",
              "        const buttonEl =\n",
              "          document.querySelector('#df-eb15ee30-4863-4604-8f9d-519201719c5f button.colab-df-convert');\n",
              "        buttonEl.style.display =\n",
              "          google.colab.kernel.accessAllowed ? 'block' : 'none';\n",
              "\n",
              "        async function convertToInteractive(key) {\n",
              "          const element = document.querySelector('#df-eb15ee30-4863-4604-8f9d-519201719c5f');\n",
              "          const dataTable =\n",
              "            await google.colab.kernel.invokeFunction('convertToInteractive',\n",
              "                                                     [key], {});\n",
              "          if (!dataTable) return;\n",
              "\n",
              "          const docLinkHtml = 'Like what you see? Visit the ' +\n",
              "            '<a target=\"_blank\" href=https://colab.research.google.com/notebooks/data_table.ipynb>data table notebook</a>'\n",
              "            + ' to learn more about interactive tables.';\n",
              "          element.innerHTML = '';\n",
              "          dataTable['output_type'] = 'display_data';\n",
              "          await google.colab.output.renderOutput(dataTable, element);\n",
              "          const docLink = document.createElement('div');\n",
              "          docLink.innerHTML = docLinkHtml;\n",
              "          element.appendChild(docLink);\n",
              "        }\n",
              "      </script>\n",
              "    </div>\n",
              "  </div>\n",
              "  "
            ]
          },
          "metadata": {},
          "execution_count": 68
        }
      ]
    },
    {
      "cell_type": "code",
      "source": [
        "regr_extra_data_y"
      ],
      "metadata": {
        "colab": {
          "base_uri": "https://localhost:8080/"
        },
        "id": "rXpnVxex4QJe",
        "outputId": "df4eac4c-a52d-4ab0-ff27-1baa584669a3"
      },
      "execution_count": null,
      "outputs": [
        {
          "output_type": "execute_result",
          "data": {
            "text/plain": [
              "        0    1    2    3    4\n",
              "0     5.4  5.9  5.2  5.1  5.2\n",
              "1     3.0  5.1  4.3  3.7  4.6\n",
              "2     3.9  5.4  4.4  4.8  3.9\n",
              "3     2.9  4.1  5.6  5.7  4.0\n",
              "4     3.2  4.8  6.1  5.7  4.7\n",
              "...   ...  ...  ...  ...  ...\n",
              "5035  4.1  5.5  3.9  3.8  5.0\n",
              "5036  5.5  5.3  4.5  3.8  5.7\n",
              "5037  3.1  3.8  4.7  4.1  4.3\n",
              "5038  3.1  5.9  4.6  4.4  4.8\n",
              "5039  2.9  4.3  5.1  5.2  4.8\n",
              "\n",
              "[5040 rows x 5 columns]"
            ],
            "text/html": [
              "\n",
              "  <div id=\"df-1b56ab91-7dc6-4a62-a315-6fce075f2bc9\">\n",
              "    <div class=\"colab-df-container\">\n",
              "      <div>\n",
              "<style scoped>\n",
              "    .dataframe tbody tr th:only-of-type {\n",
              "        vertical-align: middle;\n",
              "    }\n",
              "\n",
              "    .dataframe tbody tr th {\n",
              "        vertical-align: top;\n",
              "    }\n",
              "\n",
              "    .dataframe thead th {\n",
              "        text-align: right;\n",
              "    }\n",
              "</style>\n",
              "<table border=\"1\" class=\"dataframe\">\n",
              "  <thead>\n",
              "    <tr style=\"text-align: right;\">\n",
              "      <th></th>\n",
              "      <th>0</th>\n",
              "      <th>1</th>\n",
              "      <th>2</th>\n",
              "      <th>3</th>\n",
              "      <th>4</th>\n",
              "    </tr>\n",
              "  </thead>\n",
              "  <tbody>\n",
              "    <tr>\n",
              "      <th>0</th>\n",
              "      <td>5.4</td>\n",
              "      <td>5.9</td>\n",
              "      <td>5.2</td>\n",
              "      <td>5.1</td>\n",
              "      <td>5.2</td>\n",
              "    </tr>\n",
              "    <tr>\n",
              "      <th>1</th>\n",
              "      <td>3.0</td>\n",
              "      <td>5.1</td>\n",
              "      <td>4.3</td>\n",
              "      <td>3.7</td>\n",
              "      <td>4.6</td>\n",
              "    </tr>\n",
              "    <tr>\n",
              "      <th>2</th>\n",
              "      <td>3.9</td>\n",
              "      <td>5.4</td>\n",
              "      <td>4.4</td>\n",
              "      <td>4.8</td>\n",
              "      <td>3.9</td>\n",
              "    </tr>\n",
              "    <tr>\n",
              "      <th>3</th>\n",
              "      <td>2.9</td>\n",
              "      <td>4.1</td>\n",
              "      <td>5.6</td>\n",
              "      <td>5.7</td>\n",
              "      <td>4.0</td>\n",
              "    </tr>\n",
              "    <tr>\n",
              "      <th>4</th>\n",
              "      <td>3.2</td>\n",
              "      <td>4.8</td>\n",
              "      <td>6.1</td>\n",
              "      <td>5.7</td>\n",
              "      <td>4.7</td>\n",
              "    </tr>\n",
              "    <tr>\n",
              "      <th>...</th>\n",
              "      <td>...</td>\n",
              "      <td>...</td>\n",
              "      <td>...</td>\n",
              "      <td>...</td>\n",
              "      <td>...</td>\n",
              "    </tr>\n",
              "    <tr>\n",
              "      <th>5035</th>\n",
              "      <td>4.1</td>\n",
              "      <td>5.5</td>\n",
              "      <td>3.9</td>\n",
              "      <td>3.8</td>\n",
              "      <td>5.0</td>\n",
              "    </tr>\n",
              "    <tr>\n",
              "      <th>5036</th>\n",
              "      <td>5.5</td>\n",
              "      <td>5.3</td>\n",
              "      <td>4.5</td>\n",
              "      <td>3.8</td>\n",
              "      <td>5.7</td>\n",
              "    </tr>\n",
              "    <tr>\n",
              "      <th>5037</th>\n",
              "      <td>3.1</td>\n",
              "      <td>3.8</td>\n",
              "      <td>4.7</td>\n",
              "      <td>4.1</td>\n",
              "      <td>4.3</td>\n",
              "    </tr>\n",
              "    <tr>\n",
              "      <th>5038</th>\n",
              "      <td>3.1</td>\n",
              "      <td>5.9</td>\n",
              "      <td>4.6</td>\n",
              "      <td>4.4</td>\n",
              "      <td>4.8</td>\n",
              "    </tr>\n",
              "    <tr>\n",
              "      <th>5039</th>\n",
              "      <td>2.9</td>\n",
              "      <td>4.3</td>\n",
              "      <td>5.1</td>\n",
              "      <td>5.2</td>\n",
              "      <td>4.8</td>\n",
              "    </tr>\n",
              "  </tbody>\n",
              "</table>\n",
              "<p>5040 rows × 5 columns</p>\n",
              "</div>\n",
              "      <button class=\"colab-df-convert\" onclick=\"convertToInteractive('df-1b56ab91-7dc6-4a62-a315-6fce075f2bc9')\"\n",
              "              title=\"Convert this dataframe to an interactive table.\"\n",
              "              style=\"display:none;\">\n",
              "        \n",
              "  <svg xmlns=\"http://www.w3.org/2000/svg\" height=\"24px\"viewBox=\"0 0 24 24\"\n",
              "       width=\"24px\">\n",
              "    <path d=\"M0 0h24v24H0V0z\" fill=\"none\"/>\n",
              "    <path d=\"M18.56 5.44l.94 2.06.94-2.06 2.06-.94-2.06-.94-.94-2.06-.94 2.06-2.06.94zm-11 1L8.5 8.5l.94-2.06 2.06-.94-2.06-.94L8.5 2.5l-.94 2.06-2.06.94zm10 10l.94 2.06.94-2.06 2.06-.94-2.06-.94-.94-2.06-.94 2.06-2.06.94z\"/><path d=\"M17.41 7.96l-1.37-1.37c-.4-.4-.92-.59-1.43-.59-.52 0-1.04.2-1.43.59L10.3 9.45l-7.72 7.72c-.78.78-.78 2.05 0 2.83L4 21.41c.39.39.9.59 1.41.59.51 0 1.02-.2 1.41-.59l7.78-7.78 2.81-2.81c.8-.78.8-2.07 0-2.86zM5.41 20L4 18.59l7.72-7.72 1.47 1.35L5.41 20z\"/>\n",
              "  </svg>\n",
              "      </button>\n",
              "      \n",
              "  <style>\n",
              "    .colab-df-container {\n",
              "      display:flex;\n",
              "      flex-wrap:wrap;\n",
              "      gap: 12px;\n",
              "    }\n",
              "\n",
              "    .colab-df-convert {\n",
              "      background-color: #E8F0FE;\n",
              "      border: none;\n",
              "      border-radius: 50%;\n",
              "      cursor: pointer;\n",
              "      display: none;\n",
              "      fill: #1967D2;\n",
              "      height: 32px;\n",
              "      padding: 0 0 0 0;\n",
              "      width: 32px;\n",
              "    }\n",
              "\n",
              "    .colab-df-convert:hover {\n",
              "      background-color: #E2EBFA;\n",
              "      box-shadow: 0px 1px 2px rgba(60, 64, 67, 0.3), 0px 1px 3px 1px rgba(60, 64, 67, 0.15);\n",
              "      fill: #174EA6;\n",
              "    }\n",
              "\n",
              "    [theme=dark] .colab-df-convert {\n",
              "      background-color: #3B4455;\n",
              "      fill: #D2E3FC;\n",
              "    }\n",
              "\n",
              "    [theme=dark] .colab-df-convert:hover {\n",
              "      background-color: #434B5C;\n",
              "      box-shadow: 0px 1px 3px 1px rgba(0, 0, 0, 0.15);\n",
              "      filter: drop-shadow(0px 1px 2px rgba(0, 0, 0, 0.3));\n",
              "      fill: #FFFFFF;\n",
              "    }\n",
              "  </style>\n",
              "\n",
              "      <script>\n",
              "        const buttonEl =\n",
              "          document.querySelector('#df-1b56ab91-7dc6-4a62-a315-6fce075f2bc9 button.colab-df-convert');\n",
              "        buttonEl.style.display =\n",
              "          google.colab.kernel.accessAllowed ? 'block' : 'none';\n",
              "\n",
              "        async function convertToInteractive(key) {\n",
              "          const element = document.querySelector('#df-1b56ab91-7dc6-4a62-a315-6fce075f2bc9');\n",
              "          const dataTable =\n",
              "            await google.colab.kernel.invokeFunction('convertToInteractive',\n",
              "                                                     [key], {});\n",
              "          if (!dataTable) return;\n",
              "\n",
              "          const docLinkHtml = 'Like what you see? Visit the ' +\n",
              "            '<a target=\"_blank\" href=https://colab.research.google.com/notebooks/data_table.ipynb>data table notebook</a>'\n",
              "            + ' to learn more about interactive tables.';\n",
              "          element.innerHTML = '';\n",
              "          dataTable['output_type'] = 'display_data';\n",
              "          await google.colab.output.renderOutput(dataTable, element);\n",
              "          const docLink = document.createElement('div');\n",
              "          docLink.innerHTML = docLinkHtml;\n",
              "          element.appendChild(docLink);\n",
              "        }\n",
              "      </script>\n",
              "    </div>\n",
              "  </div>\n",
              "  "
            ]
          },
          "metadata": {},
          "execution_count": 69
        }
      ]
    },
    {
      "cell_type": "markdown",
      "source": [
        "## regr_normalized_extra_data_train_x"
      ],
      "metadata": {
        "id": "yNsZFmjX6d7A"
      }
    },
    {
      "cell_type": "markdown",
      "source": [
        "add test to it"
      ],
      "metadata": {
        "id": "Gyl7ds4C8thU"
      }
    },
    {
      "cell_type": "code",
      "source": [
        "regr_extra_data_x = regr_extra_data_x.append(regr_test_x, ignore_index = True)\n",
        "regr_extra_data_y = regr_extra_data_y.append(regr_test_y, ignore_index = True)"
      ],
      "metadata": {
        "id": "v0qkiJ8581Gj"
      },
      "execution_count": null,
      "outputs": []
    },
    {
      "cell_type": "markdown",
      "source": [
        "normalizing"
      ],
      "metadata": {
        "id": "tMAYRIIK8xeG"
      }
    },
    {
      "cell_type": "code",
      "source": [
        "from sklearn.model_selection import cross_val_score\n",
        "from sklearn import preprocessing"
      ],
      "metadata": {
        "id": "6YR6xCBhb_9q"
      },
      "execution_count": null,
      "outputs": []
    },
    {
      "cell_type": "code",
      "source": [
        "min_max_scaler = preprocessing.MinMaxScaler()\n",
        "x_scaled = min_max_scaler.fit_transform(regr_extra_data_x)\n",
        "regr_normalized_extra_data_x = pd.DataFrame(x_scaled)"
      ],
      "metadata": {
        "id": "g_G4lfZJ6gp4"
      },
      "execution_count": null,
      "outputs": []
    },
    {
      "cell_type": "markdown",
      "source": [
        "## test"
      ],
      "metadata": {
        "id": "vJVIgGR6ijhk"
      }
    },
    {
      "cell_type": "code",
      "source": [
        "from sklearn.linear_model import LinearRegression"
      ],
      "metadata": {
        "id": "IXmeEpk4Xcnh"
      },
      "execution_count": null,
      "outputs": []
    },
    {
      "cell_type": "code",
      "source": [
        "regr = LinearRegression().fit(regr_normalized_extra_data_x[:-17], regr_extra_data_y[4][:-17])\n"
      ],
      "metadata": {
        "id": "4TW3G9Lyj1cN"
      },
      "execution_count": null,
      "outputs": []
    },
    {
      "cell_type": "markdown",
      "source": [
        "20_000"
      ],
      "metadata": {
        "id": "fDz6bj1RK5wz"
      }
    },
    {
      "cell_type": "code",
      "source": [
        "regr.predict(regr_normalized_extra_data_x[-17:])"
      ],
      "metadata": {
        "colab": {
          "base_uri": "https://localhost:8080/"
        },
        "id": "qCrx8TxDK5_H",
        "outputId": "ff9e51ac-97ca-41fd-bcd2-03a947f371fb"
      },
      "execution_count": null,
      "outputs": [
        {
          "output_type": "execute_result",
          "data": {
            "text/plain": [
              "array([7.09672293, 4.81087537, 4.19516054, 3.33146409, 5.25329006,\n",
              "       5.64209901, 5.50722805, 4.54535669, 6.67673452, 5.53645332,\n",
              "       5.97323575, 4.41589998, 6.48644033, 5.39813779, 6.66571248,\n",
              "       4.18962144, 6.86389916])"
            ]
          },
          "metadata": {},
          "execution_count": 57
        }
      ]
    },
    {
      "cell_type": "markdown",
      "source": [
        "10_000"
      ],
      "metadata": {
        "id": "ga8lKuPBGjz9"
      }
    },
    {
      "cell_type": "code",
      "source": [
        "regr.predict(regr_normalized_extra_data_x[-17:])"
      ],
      "metadata": {
        "colab": {
          "base_uri": "https://localhost:8080/"
        },
        "id": "39D7esSSGj_-",
        "outputId": "f19aa623-1f6d-401a-c75a-ff11ed5fa3cd"
      },
      "execution_count": null,
      "outputs": [
        {
          "output_type": "execute_result",
          "data": {
            "text/plain": [
              "array([6.80632228, 5.16620991, 4.99852727, 3.38918713, 5.31628849,\n",
              "       5.34240788, 5.66332552, 4.93934944, 6.5085644 , 5.50675052,\n",
              "       5.5997384 , 4.58940204, 6.34485305, 5.40263878, 6.19010714,\n",
              "       4.24877567, 6.98216216])"
            ]
          },
          "metadata": {},
          "execution_count": 60
        }
      ]
    },
    {
      "cell_type": "markdown",
      "source": [
        "1000"
      ],
      "metadata": {
        "id": "gxDKdX6EGFet"
      }
    },
    {
      "cell_type": "code",
      "source": [
        "regr.predict(regr_normalized_extra_data_x[-17:])"
      ],
      "metadata": {
        "colab": {
          "base_uri": "https://localhost:8080/"
        },
        "id": "pYvltWpVGEdO",
        "outputId": "6774c296-0f88-4f1e-a60c-cd2df113ea99"
      },
      "execution_count": null,
      "outputs": [
        {
          "output_type": "execute_result",
          "data": {
            "text/plain": [
              "array([7.09442739, 4.80990492, 4.20366914, 3.33027086, 5.25045776,\n",
              "       5.63901508, 5.50617702, 4.54954557, 6.68191051, 5.53797613,\n",
              "       5.96042693, 4.41819013, 6.49417996, 5.3930325 , 6.66354831,\n",
              "       4.18186351, 6.86991265])"
            ]
          },
          "metadata": {},
          "execution_count": 53
        }
      ]
    },
    {
      "cell_type": "code",
      "source": [
        "regr_test_y[4][1:]"
      ],
      "metadata": {
        "colab": {
          "base_uri": "https://localhost:8080/"
        },
        "id": "GAepUEI1kp9O",
        "outputId": "113270f7-b970-4efb-9df7-5887950c38fd"
      },
      "execution_count": null,
      "outputs": [
        {
          "output_type": "execute_result",
          "data": {
            "text/plain": [
              "41    5.5\n",
              "42    4.6\n",
              "43    5.3\n",
              "44    4.9\n",
              "45    4.8\n",
              "46    4.3\n",
              "47    5.2\n",
              "48    4.8\n",
              "49    4.7\n",
              "50    5.3\n",
              "51    6.5\n",
              "52    4.8\n",
              "53    5.4\n",
              "54    6.5\n",
              "55    5.1\n",
              "56    4.2\n",
              "57    6.6\n",
              "Name: 4, dtype: float64"
            ]
          },
          "metadata": {},
          "execution_count": 54
        }
      ]
    },
    {
      "cell_type": "code",
      "source": [
        "pandas_median_personality"
      ],
      "metadata": {
        "colab": {
          "base_uri": "https://localhost:8080/"
        },
        "id": "Qa9yZIlrlUwV",
        "outputId": "1bfb0a6b-50e2-4140-8044-36d2425c7e86"
      },
      "execution_count": null,
      "outputs": [
        {
          "output_type": "execute_result",
          "data": {
            "text/plain": [
              "0    4.45\n",
              "1    5.10\n",
              "2    5.20\n",
              "3    4.20\n",
              "4    4.90\n",
              "dtype: float64"
            ]
          },
          "metadata": {},
          "execution_count": 42
        }
      ]
    },
    {
      "cell_type": "code",
      "source": [
        "pandas_personality"
      ],
      "metadata": {
        "colab": {
          "base_uri": "https://localhost:8080/",
          "height": 1000
        },
        "id": "WDzXSod5pphw",
        "outputId": "f1143e59-622d-4bd4-f30b-ae1a65cc0503"
      },
      "execution_count": null,
      "outputs": [
        {
          "output_type": "execute_result",
          "data": {
            "text/plain": [
              "      0    1    2    3    4\n",
              "0   5.4  5.9  5.2  5.1  5.2\n",
              "1   3.0  5.1  4.3  3.7  4.6\n",
              "2   3.9  5.4  4.4  4.8  3.9\n",
              "3   2.9  4.1  5.6  5.7  4.0\n",
              "4   3.2  4.8  6.1  5.7  4.7\n",
              "5   3.5  4.9  5.4  3.9  4.9\n",
              "6   5.5  5.4  5.0  4.3  5.4\n",
              "7   3.1  5.9  4.6  4.4  4.8\n",
              "8   5.9  4.7  3.9  3.0  4.9\n",
              "9   4.9  5.6  5.9  4.0  5.4\n",
              "10  6.2  5.9  4.8  4.7  5.5\n",
              "11  5.8  6.7  6.9  4.8  6.5\n",
              "12  5.6  5.3  5.7  4.0  3.8\n",
              "13  4.1  5.5  3.9  3.8  5.0\n",
              "14  3.0  3.2  6.1  2.7  5.1\n",
              "15  4.0  5.7  5.0  4.0  5.8\n",
              "16  3.1  5.1  3.4  4.1  3.9\n",
              "17  4.5  4.6  5.3  3.7  4.1\n",
              "18  5.5  5.3  4.5  3.8  5.7\n",
              "19  5.2  6.6  6.4  5.4  4.7\n",
              "20  4.2  6.0  5.6  4.9  4.6\n",
              "21  4.4  5.5  5.4  3.0  5.4\n",
              "22  2.9  4.3  5.1  5.2  4.8\n",
              "23  5.4  3.9  5.6  4.6  5.0\n",
              "24  2.7  5.9  6.1  4.9  4.7\n",
              "25  3.3  4.9  3.8  4.6  4.7\n",
              "26  3.0  3.5  5.9  3.8  5.0\n",
              "27  3.3  5.1  4.1  5.1  4.9\n",
              "28  4.9  5.0  4.9  2.8  5.0\n",
              "29  3.6  5.4  5.5  5.0  4.4\n",
              "30  3.9  4.3  6.3  4.4  4.3\n",
              "31  4.5  5.3  5.2  4.3  5.0\n",
              "32  3.1  3.8  4.7  4.1  4.3\n",
              "33  2.6  4.1  5.7  3.3  3.7\n",
              "34  5.1  5.9  5.1  3.5  4.6\n",
              "35  2.8  3.8  3.5  2.5  4.8\n",
              "36  5.7  4.6  4.8  4.5  4.7\n",
              "37  4.1  4.5  4.3  2.7  5.6\n",
              "38  4.5  5.0  4.5  4.8  4.8\n",
              "39  6.1  4.3  5.3  2.0  5.7\n",
              "40  5.6  5.5  6.5  2.6  4.9\n",
              "41  5.1  6.0  4.8  3.3  5.5\n",
              "42  5.1  4.7  4.6  3.3  4.6\n",
              "43  5.1  6.1  6.0  4.9  5.3\n",
              "44  3.3  5.7  5.8  5.7  4.9\n",
              "45  4.9  5.0  4.7  2.5  4.8\n",
              "46  2.6  4.3  4.2  2.8  4.3\n",
              "47  3.9  5.5  5.7  4.1  5.2\n",
              "48  3.9  4.5  5.4  4.3  4.8\n",
              "49  5.0  5.4  5.7  4.9  4.7\n",
              "50  4.8  5.1  5.4  3.8  5.3\n",
              "51  5.3  5.1  5.2  3.4  6.5\n",
              "52  5.9  4.4  4.9  5.0  4.8\n",
              "53  3.2  5.7  5.2  5.5  5.4\n",
              "54  2.9  4.4  4.0  4.1  6.5\n",
              "55  4.6  5.3  5.4  5.2  5.1\n",
              "56  5.6  5.3  6.0  4.4  4.2\n",
              "57  4.6  6.5  5.1  4.6  6.6"
            ],
            "text/html": [
              "\n",
              "  <div id=\"df-df17a0c7-94c3-41d8-96f9-9bb03d24dddb\">\n",
              "    <div class=\"colab-df-container\">\n",
              "      <div>\n",
              "<style scoped>\n",
              "    .dataframe tbody tr th:only-of-type {\n",
              "        vertical-align: middle;\n",
              "    }\n",
              "\n",
              "    .dataframe tbody tr th {\n",
              "        vertical-align: top;\n",
              "    }\n",
              "\n",
              "    .dataframe thead th {\n",
              "        text-align: right;\n",
              "    }\n",
              "</style>\n",
              "<table border=\"1\" class=\"dataframe\">\n",
              "  <thead>\n",
              "    <tr style=\"text-align: right;\">\n",
              "      <th></th>\n",
              "      <th>0</th>\n",
              "      <th>1</th>\n",
              "      <th>2</th>\n",
              "      <th>3</th>\n",
              "      <th>4</th>\n",
              "    </tr>\n",
              "  </thead>\n",
              "  <tbody>\n",
              "    <tr>\n",
              "      <th>0</th>\n",
              "      <td>5.4</td>\n",
              "      <td>5.9</td>\n",
              "      <td>5.2</td>\n",
              "      <td>5.1</td>\n",
              "      <td>5.2</td>\n",
              "    </tr>\n",
              "    <tr>\n",
              "      <th>1</th>\n",
              "      <td>3.0</td>\n",
              "      <td>5.1</td>\n",
              "      <td>4.3</td>\n",
              "      <td>3.7</td>\n",
              "      <td>4.6</td>\n",
              "    </tr>\n",
              "    <tr>\n",
              "      <th>2</th>\n",
              "      <td>3.9</td>\n",
              "      <td>5.4</td>\n",
              "      <td>4.4</td>\n",
              "      <td>4.8</td>\n",
              "      <td>3.9</td>\n",
              "    </tr>\n",
              "    <tr>\n",
              "      <th>3</th>\n",
              "      <td>2.9</td>\n",
              "      <td>4.1</td>\n",
              "      <td>5.6</td>\n",
              "      <td>5.7</td>\n",
              "      <td>4.0</td>\n",
              "    </tr>\n",
              "    <tr>\n",
              "      <th>4</th>\n",
              "      <td>3.2</td>\n",
              "      <td>4.8</td>\n",
              "      <td>6.1</td>\n",
              "      <td>5.7</td>\n",
              "      <td>4.7</td>\n",
              "    </tr>\n",
              "    <tr>\n",
              "      <th>5</th>\n",
              "      <td>3.5</td>\n",
              "      <td>4.9</td>\n",
              "      <td>5.4</td>\n",
              "      <td>3.9</td>\n",
              "      <td>4.9</td>\n",
              "    </tr>\n",
              "    <tr>\n",
              "      <th>6</th>\n",
              "      <td>5.5</td>\n",
              "      <td>5.4</td>\n",
              "      <td>5.0</td>\n",
              "      <td>4.3</td>\n",
              "      <td>5.4</td>\n",
              "    </tr>\n",
              "    <tr>\n",
              "      <th>7</th>\n",
              "      <td>3.1</td>\n",
              "      <td>5.9</td>\n",
              "      <td>4.6</td>\n",
              "      <td>4.4</td>\n",
              "      <td>4.8</td>\n",
              "    </tr>\n",
              "    <tr>\n",
              "      <th>8</th>\n",
              "      <td>5.9</td>\n",
              "      <td>4.7</td>\n",
              "      <td>3.9</td>\n",
              "      <td>3.0</td>\n",
              "      <td>4.9</td>\n",
              "    </tr>\n",
              "    <tr>\n",
              "      <th>9</th>\n",
              "      <td>4.9</td>\n",
              "      <td>5.6</td>\n",
              "      <td>5.9</td>\n",
              "      <td>4.0</td>\n",
              "      <td>5.4</td>\n",
              "    </tr>\n",
              "    <tr>\n",
              "      <th>10</th>\n",
              "      <td>6.2</td>\n",
              "      <td>5.9</td>\n",
              "      <td>4.8</td>\n",
              "      <td>4.7</td>\n",
              "      <td>5.5</td>\n",
              "    </tr>\n",
              "    <tr>\n",
              "      <th>11</th>\n",
              "      <td>5.8</td>\n",
              "      <td>6.7</td>\n",
              "      <td>6.9</td>\n",
              "      <td>4.8</td>\n",
              "      <td>6.5</td>\n",
              "    </tr>\n",
              "    <tr>\n",
              "      <th>12</th>\n",
              "      <td>5.6</td>\n",
              "      <td>5.3</td>\n",
              "      <td>5.7</td>\n",
              "      <td>4.0</td>\n",
              "      <td>3.8</td>\n",
              "    </tr>\n",
              "    <tr>\n",
              "      <th>13</th>\n",
              "      <td>4.1</td>\n",
              "      <td>5.5</td>\n",
              "      <td>3.9</td>\n",
              "      <td>3.8</td>\n",
              "      <td>5.0</td>\n",
              "    </tr>\n",
              "    <tr>\n",
              "      <th>14</th>\n",
              "      <td>3.0</td>\n",
              "      <td>3.2</td>\n",
              "      <td>6.1</td>\n",
              "      <td>2.7</td>\n",
              "      <td>5.1</td>\n",
              "    </tr>\n",
              "    <tr>\n",
              "      <th>15</th>\n",
              "      <td>4.0</td>\n",
              "      <td>5.7</td>\n",
              "      <td>5.0</td>\n",
              "      <td>4.0</td>\n",
              "      <td>5.8</td>\n",
              "    </tr>\n",
              "    <tr>\n",
              "      <th>16</th>\n",
              "      <td>3.1</td>\n",
              "      <td>5.1</td>\n",
              "      <td>3.4</td>\n",
              "      <td>4.1</td>\n",
              "      <td>3.9</td>\n",
              "    </tr>\n",
              "    <tr>\n",
              "      <th>17</th>\n",
              "      <td>4.5</td>\n",
              "      <td>4.6</td>\n",
              "      <td>5.3</td>\n",
              "      <td>3.7</td>\n",
              "      <td>4.1</td>\n",
              "    </tr>\n",
              "    <tr>\n",
              "      <th>18</th>\n",
              "      <td>5.5</td>\n",
              "      <td>5.3</td>\n",
              "      <td>4.5</td>\n",
              "      <td>3.8</td>\n",
              "      <td>5.7</td>\n",
              "    </tr>\n",
              "    <tr>\n",
              "      <th>19</th>\n",
              "      <td>5.2</td>\n",
              "      <td>6.6</td>\n",
              "      <td>6.4</td>\n",
              "      <td>5.4</td>\n",
              "      <td>4.7</td>\n",
              "    </tr>\n",
              "    <tr>\n",
              "      <th>20</th>\n",
              "      <td>4.2</td>\n",
              "      <td>6.0</td>\n",
              "      <td>5.6</td>\n",
              "      <td>4.9</td>\n",
              "      <td>4.6</td>\n",
              "    </tr>\n",
              "    <tr>\n",
              "      <th>21</th>\n",
              "      <td>4.4</td>\n",
              "      <td>5.5</td>\n",
              "      <td>5.4</td>\n",
              "      <td>3.0</td>\n",
              "      <td>5.4</td>\n",
              "    </tr>\n",
              "    <tr>\n",
              "      <th>22</th>\n",
              "      <td>2.9</td>\n",
              "      <td>4.3</td>\n",
              "      <td>5.1</td>\n",
              "      <td>5.2</td>\n",
              "      <td>4.8</td>\n",
              "    </tr>\n",
              "    <tr>\n",
              "      <th>23</th>\n",
              "      <td>5.4</td>\n",
              "      <td>3.9</td>\n",
              "      <td>5.6</td>\n",
              "      <td>4.6</td>\n",
              "      <td>5.0</td>\n",
              "    </tr>\n",
              "    <tr>\n",
              "      <th>24</th>\n",
              "      <td>2.7</td>\n",
              "      <td>5.9</td>\n",
              "      <td>6.1</td>\n",
              "      <td>4.9</td>\n",
              "      <td>4.7</td>\n",
              "    </tr>\n",
              "    <tr>\n",
              "      <th>25</th>\n",
              "      <td>3.3</td>\n",
              "      <td>4.9</td>\n",
              "      <td>3.8</td>\n",
              "      <td>4.6</td>\n",
              "      <td>4.7</td>\n",
              "    </tr>\n",
              "    <tr>\n",
              "      <th>26</th>\n",
              "      <td>3.0</td>\n",
              "      <td>3.5</td>\n",
              "      <td>5.9</td>\n",
              "      <td>3.8</td>\n",
              "      <td>5.0</td>\n",
              "    </tr>\n",
              "    <tr>\n",
              "      <th>27</th>\n",
              "      <td>3.3</td>\n",
              "      <td>5.1</td>\n",
              "      <td>4.1</td>\n",
              "      <td>5.1</td>\n",
              "      <td>4.9</td>\n",
              "    </tr>\n",
              "    <tr>\n",
              "      <th>28</th>\n",
              "      <td>4.9</td>\n",
              "      <td>5.0</td>\n",
              "      <td>4.9</td>\n",
              "      <td>2.8</td>\n",
              "      <td>5.0</td>\n",
              "    </tr>\n",
              "    <tr>\n",
              "      <th>29</th>\n",
              "      <td>3.6</td>\n",
              "      <td>5.4</td>\n",
              "      <td>5.5</td>\n",
              "      <td>5.0</td>\n",
              "      <td>4.4</td>\n",
              "    </tr>\n",
              "    <tr>\n",
              "      <th>30</th>\n",
              "      <td>3.9</td>\n",
              "      <td>4.3</td>\n",
              "      <td>6.3</td>\n",
              "      <td>4.4</td>\n",
              "      <td>4.3</td>\n",
              "    </tr>\n",
              "    <tr>\n",
              "      <th>31</th>\n",
              "      <td>4.5</td>\n",
              "      <td>5.3</td>\n",
              "      <td>5.2</td>\n",
              "      <td>4.3</td>\n",
              "      <td>5.0</td>\n",
              "    </tr>\n",
              "    <tr>\n",
              "      <th>32</th>\n",
              "      <td>3.1</td>\n",
              "      <td>3.8</td>\n",
              "      <td>4.7</td>\n",
              "      <td>4.1</td>\n",
              "      <td>4.3</td>\n",
              "    </tr>\n",
              "    <tr>\n",
              "      <th>33</th>\n",
              "      <td>2.6</td>\n",
              "      <td>4.1</td>\n",
              "      <td>5.7</td>\n",
              "      <td>3.3</td>\n",
              "      <td>3.7</td>\n",
              "    </tr>\n",
              "    <tr>\n",
              "      <th>34</th>\n",
              "      <td>5.1</td>\n",
              "      <td>5.9</td>\n",
              "      <td>5.1</td>\n",
              "      <td>3.5</td>\n",
              "      <td>4.6</td>\n",
              "    </tr>\n",
              "    <tr>\n",
              "      <th>35</th>\n",
              "      <td>2.8</td>\n",
              "      <td>3.8</td>\n",
              "      <td>3.5</td>\n",
              "      <td>2.5</td>\n",
              "      <td>4.8</td>\n",
              "    </tr>\n",
              "    <tr>\n",
              "      <th>36</th>\n",
              "      <td>5.7</td>\n",
              "      <td>4.6</td>\n",
              "      <td>4.8</td>\n",
              "      <td>4.5</td>\n",
              "      <td>4.7</td>\n",
              "    </tr>\n",
              "    <tr>\n",
              "      <th>37</th>\n",
              "      <td>4.1</td>\n",
              "      <td>4.5</td>\n",
              "      <td>4.3</td>\n",
              "      <td>2.7</td>\n",
              "      <td>5.6</td>\n",
              "    </tr>\n",
              "    <tr>\n",
              "      <th>38</th>\n",
              "      <td>4.5</td>\n",
              "      <td>5.0</td>\n",
              "      <td>4.5</td>\n",
              "      <td>4.8</td>\n",
              "      <td>4.8</td>\n",
              "    </tr>\n",
              "    <tr>\n",
              "      <th>39</th>\n",
              "      <td>6.1</td>\n",
              "      <td>4.3</td>\n",
              "      <td>5.3</td>\n",
              "      <td>2.0</td>\n",
              "      <td>5.7</td>\n",
              "    </tr>\n",
              "    <tr>\n",
              "      <th>40</th>\n",
              "      <td>5.6</td>\n",
              "      <td>5.5</td>\n",
              "      <td>6.5</td>\n",
              "      <td>2.6</td>\n",
              "      <td>4.9</td>\n",
              "    </tr>\n",
              "    <tr>\n",
              "      <th>41</th>\n",
              "      <td>5.1</td>\n",
              "      <td>6.0</td>\n",
              "      <td>4.8</td>\n",
              "      <td>3.3</td>\n",
              "      <td>5.5</td>\n",
              "    </tr>\n",
              "    <tr>\n",
              "      <th>42</th>\n",
              "      <td>5.1</td>\n",
              "      <td>4.7</td>\n",
              "      <td>4.6</td>\n",
              "      <td>3.3</td>\n",
              "      <td>4.6</td>\n",
              "    </tr>\n",
              "    <tr>\n",
              "      <th>43</th>\n",
              "      <td>5.1</td>\n",
              "      <td>6.1</td>\n",
              "      <td>6.0</td>\n",
              "      <td>4.9</td>\n",
              "      <td>5.3</td>\n",
              "    </tr>\n",
              "    <tr>\n",
              "      <th>44</th>\n",
              "      <td>3.3</td>\n",
              "      <td>5.7</td>\n",
              "      <td>5.8</td>\n",
              "      <td>5.7</td>\n",
              "      <td>4.9</td>\n",
              "    </tr>\n",
              "    <tr>\n",
              "      <th>45</th>\n",
              "      <td>4.9</td>\n",
              "      <td>5.0</td>\n",
              "      <td>4.7</td>\n",
              "      <td>2.5</td>\n",
              "      <td>4.8</td>\n",
              "    </tr>\n",
              "    <tr>\n",
              "      <th>46</th>\n",
              "      <td>2.6</td>\n",
              "      <td>4.3</td>\n",
              "      <td>4.2</td>\n",
              "      <td>2.8</td>\n",
              "      <td>4.3</td>\n",
              "    </tr>\n",
              "    <tr>\n",
              "      <th>47</th>\n",
              "      <td>3.9</td>\n",
              "      <td>5.5</td>\n",
              "      <td>5.7</td>\n",
              "      <td>4.1</td>\n",
              "      <td>5.2</td>\n",
              "    </tr>\n",
              "    <tr>\n",
              "      <th>48</th>\n",
              "      <td>3.9</td>\n",
              "      <td>4.5</td>\n",
              "      <td>5.4</td>\n",
              "      <td>4.3</td>\n",
              "      <td>4.8</td>\n",
              "    </tr>\n",
              "    <tr>\n",
              "      <th>49</th>\n",
              "      <td>5.0</td>\n",
              "      <td>5.4</td>\n",
              "      <td>5.7</td>\n",
              "      <td>4.9</td>\n",
              "      <td>4.7</td>\n",
              "    </tr>\n",
              "    <tr>\n",
              "      <th>50</th>\n",
              "      <td>4.8</td>\n",
              "      <td>5.1</td>\n",
              "      <td>5.4</td>\n",
              "      <td>3.8</td>\n",
              "      <td>5.3</td>\n",
              "    </tr>\n",
              "    <tr>\n",
              "      <th>51</th>\n",
              "      <td>5.3</td>\n",
              "      <td>5.1</td>\n",
              "      <td>5.2</td>\n",
              "      <td>3.4</td>\n",
              "      <td>6.5</td>\n",
              "    </tr>\n",
              "    <tr>\n",
              "      <th>52</th>\n",
              "      <td>5.9</td>\n",
              "      <td>4.4</td>\n",
              "      <td>4.9</td>\n",
              "      <td>5.0</td>\n",
              "      <td>4.8</td>\n",
              "    </tr>\n",
              "    <tr>\n",
              "      <th>53</th>\n",
              "      <td>3.2</td>\n",
              "      <td>5.7</td>\n",
              "      <td>5.2</td>\n",
              "      <td>5.5</td>\n",
              "      <td>5.4</td>\n",
              "    </tr>\n",
              "    <tr>\n",
              "      <th>54</th>\n",
              "      <td>2.9</td>\n",
              "      <td>4.4</td>\n",
              "      <td>4.0</td>\n",
              "      <td>4.1</td>\n",
              "      <td>6.5</td>\n",
              "    </tr>\n",
              "    <tr>\n",
              "      <th>55</th>\n",
              "      <td>4.6</td>\n",
              "      <td>5.3</td>\n",
              "      <td>5.4</td>\n",
              "      <td>5.2</td>\n",
              "      <td>5.1</td>\n",
              "    </tr>\n",
              "    <tr>\n",
              "      <th>56</th>\n",
              "      <td>5.6</td>\n",
              "      <td>5.3</td>\n",
              "      <td>6.0</td>\n",
              "      <td>4.4</td>\n",
              "      <td>4.2</td>\n",
              "    </tr>\n",
              "    <tr>\n",
              "      <th>57</th>\n",
              "      <td>4.6</td>\n",
              "      <td>6.5</td>\n",
              "      <td>5.1</td>\n",
              "      <td>4.6</td>\n",
              "      <td>6.6</td>\n",
              "    </tr>\n",
              "  </tbody>\n",
              "</table>\n",
              "</div>\n",
              "      <button class=\"colab-df-convert\" onclick=\"convertToInteractive('df-df17a0c7-94c3-41d8-96f9-9bb03d24dddb')\"\n",
              "              title=\"Convert this dataframe to an interactive table.\"\n",
              "              style=\"display:none;\">\n",
              "        \n",
              "  <svg xmlns=\"http://www.w3.org/2000/svg\" height=\"24px\"viewBox=\"0 0 24 24\"\n",
              "       width=\"24px\">\n",
              "    <path d=\"M0 0h24v24H0V0z\" fill=\"none\"/>\n",
              "    <path d=\"M18.56 5.44l.94 2.06.94-2.06 2.06-.94-2.06-.94-.94-2.06-.94 2.06-2.06.94zm-11 1L8.5 8.5l.94-2.06 2.06-.94-2.06-.94L8.5 2.5l-.94 2.06-2.06.94zm10 10l.94 2.06.94-2.06 2.06-.94-2.06-.94-.94-2.06-.94 2.06-2.06.94z\"/><path d=\"M17.41 7.96l-1.37-1.37c-.4-.4-.92-.59-1.43-.59-.52 0-1.04.2-1.43.59L10.3 9.45l-7.72 7.72c-.78.78-.78 2.05 0 2.83L4 21.41c.39.39.9.59 1.41.59.51 0 1.02-.2 1.41-.59l7.78-7.78 2.81-2.81c.8-.78.8-2.07 0-2.86zM5.41 20L4 18.59l7.72-7.72 1.47 1.35L5.41 20z\"/>\n",
              "  </svg>\n",
              "      </button>\n",
              "      \n",
              "  <style>\n",
              "    .colab-df-container {\n",
              "      display:flex;\n",
              "      flex-wrap:wrap;\n",
              "      gap: 12px;\n",
              "    }\n",
              "\n",
              "    .colab-df-convert {\n",
              "      background-color: #E8F0FE;\n",
              "      border: none;\n",
              "      border-radius: 50%;\n",
              "      cursor: pointer;\n",
              "      display: none;\n",
              "      fill: #1967D2;\n",
              "      height: 32px;\n",
              "      padding: 0 0 0 0;\n",
              "      width: 32px;\n",
              "    }\n",
              "\n",
              "    .colab-df-convert:hover {\n",
              "      background-color: #E2EBFA;\n",
              "      box-shadow: 0px 1px 2px rgba(60, 64, 67, 0.3), 0px 1px 3px 1px rgba(60, 64, 67, 0.15);\n",
              "      fill: #174EA6;\n",
              "    }\n",
              "\n",
              "    [theme=dark] .colab-df-convert {\n",
              "      background-color: #3B4455;\n",
              "      fill: #D2E3FC;\n",
              "    }\n",
              "\n",
              "    [theme=dark] .colab-df-convert:hover {\n",
              "      background-color: #434B5C;\n",
              "      box-shadow: 0px 1px 3px 1px rgba(0, 0, 0, 0.15);\n",
              "      filter: drop-shadow(0px 1px 2px rgba(0, 0, 0, 0.3));\n",
              "      fill: #FFFFFF;\n",
              "    }\n",
              "  </style>\n",
              "\n",
              "      <script>\n",
              "        const buttonEl =\n",
              "          document.querySelector('#df-df17a0c7-94c3-41d8-96f9-9bb03d24dddb button.colab-df-convert');\n",
              "        buttonEl.style.display =\n",
              "          google.colab.kernel.accessAllowed ? 'block' : 'none';\n",
              "\n",
              "        async function convertToInteractive(key) {\n",
              "          const element = document.querySelector('#df-df17a0c7-94c3-41d8-96f9-9bb03d24dddb');\n",
              "          const dataTable =\n",
              "            await google.colab.kernel.invokeFunction('convertToInteractive',\n",
              "                                                     [key], {});\n",
              "          if (!dataTable) return;\n",
              "\n",
              "          const docLinkHtml = 'Like what you see? Visit the ' +\n",
              "            '<a target=\"_blank\" href=https://colab.research.google.com/notebooks/data_table.ipynb>data table notebook</a>'\n",
              "            + ' to learn more about interactive tables.';\n",
              "          element.innerHTML = '';\n",
              "          dataTable['output_type'] = 'display_data';\n",
              "          await google.colab.output.renderOutput(dataTable, element);\n",
              "          const docLink = document.createElement('div');\n",
              "          docLink.innerHTML = docLinkHtml;\n",
              "          element.appendChild(docLink);\n",
              "        }\n",
              "      </script>\n",
              "    </div>\n",
              "  </div>\n",
              "  "
            ]
          },
          "metadata": {},
          "execution_count": 70
        }
      ]
    },
    {
      "cell_type": "markdown",
      "source": [
        "20_000 0"
      ],
      "metadata": {
        "id": "8y1tfd-CabSR"
      }
    },
    {
      "cell_type": "code",
      "source": [
        "regr.predict(regr_normalized_extra_data_x[-17:])"
      ],
      "metadata": {
        "colab": {
          "base_uri": "https://localhost:8080/"
        },
        "id": "zEBBAU6YaU1N",
        "outputId": "f93c89e0-c098-42a4-80a7-4c586573d93e"
      },
      "execution_count": null,
      "outputs": [
        {
          "output_type": "execute_result",
          "data": {
            "text/plain": [
              "array([ 9.71601097,  6.76668251,  4.74921844,  3.01875391,  9.50702737,\n",
              "        6.16946379,  6.25542221,  3.22075733,  9.33856194,  7.98305662,\n",
              "       10.6616835 ,  5.86600926,  9.36729358,  7.39881964, 11.78071359,\n",
              "        3.90816595, 14.39209246])"
            ]
          },
          "metadata": {},
          "execution_count": 66
        }
      ]
    },
    {
      "cell_type": "markdown",
      "source": [
        "20_000 1"
      ],
      "metadata": {
        "id": "XJSnnvv3aa8x"
      }
    },
    {
      "cell_type": "code",
      "source": [
        "regr.predict(regr_normalized_extra_data_x[-17:])"
      ],
      "metadata": {
        "colab": {
          "base_uri": "https://localhost:8080/"
        },
        "id": "u5txX55yaVei",
        "outputId": "d638ed39-ba93-413d-becf-39251e50aa0a"
      },
      "execution_count": null,
      "outputs": [
        {
          "output_type": "execute_result",
          "data": {
            "text/plain": [
              "array([ 9.93021742,  5.76042333,  3.38071217,  1.51532756,  7.42619793,\n",
              "        6.69848798,  6.00068647,  2.74905689, 10.15824241,  7.7247473 ,\n",
              "        9.18484816,  4.28273436,  8.31750895,  7.0572977 , 11.11945102,\n",
              "        3.2311925 , 12.76302072])"
            ]
          },
          "metadata": {},
          "execution_count": 64
        }
      ]
    },
    {
      "cell_type": "markdown",
      "source": [
        "20_000 2"
      ],
      "metadata": {
        "id": "Sl9kSItMaair"
      }
    },
    {
      "cell_type": "code",
      "source": [
        "regr.predict(regr_normalized_extra_data_x[-17:])"
      ],
      "metadata": {
        "colab": {
          "base_uri": "https://localhost:8080/"
        },
        "id": "TMmfCB5QaVxp",
        "outputId": "1f317913-d3b9-434e-d2fd-394c638df42b"
      },
      "execution_count": null,
      "outputs": [
        {
          "output_type": "execute_result",
          "data": {
            "text/plain": [
              "array([3.1674912 , 4.67055592, 4.10441611, 4.31001528, 6.11851503,\n",
              "       2.85409861, 3.52300815, 3.19631292, 3.05778249, 4.11833596,\n",
              "       5.57653557, 5.60876202, 3.84453678, 3.56599709, 5.710785  ,\n",
              "       4.16013319, 5.75043998])"
            ]
          },
          "metadata": {},
          "execution_count": 62
        }
      ]
    },
    {
      "cell_type": "markdown",
      "source": [
        "20_000 3"
      ],
      "metadata": {
        "id": "jDi8WLRpaaHD"
      }
    },
    {
      "cell_type": "code",
      "source": [
        "regr.predict(regr_normalized_extra_data_x[-17:])"
      ],
      "metadata": {
        "colab": {
          "base_uri": "https://localhost:8080/"
        },
        "id": "SyvpirMQaWTM",
        "outputId": "20ac5da7-60cf-45c8-edf3-49a727b1bae1"
      },
      "execution_count": null,
      "outputs": [
        {
          "output_type": "execute_result",
          "data": {
            "text/plain": [
              "array([3.66108362, 4.22698555, 3.1521584 , 3.5818608 , 4.02540884,\n",
              "       3.23350272, 3.24883053, 2.38178817, 4.29509927, 4.40119453,\n",
              "       4.89174229, 4.36057124, 4.19196106, 3.58711096, 5.42395485,\n",
              "       3.13290049, 6.3232254 ])"
            ]
          },
          "metadata": {},
          "execution_count": 60
        }
      ]
    },
    {
      "cell_type": "markdown",
      "source": [
        "20_000 4"
      ],
      "metadata": {
        "id": "WnsNzJGIaYDu"
      }
    },
    {
      "cell_type": "code",
      "source": [
        "regr.predict(regr_normalized_extra_data_x[-17:])"
      ],
      "metadata": {
        "colab": {
          "base_uri": "https://localhost:8080/"
        },
        "id": "YoJM1_uraWAL",
        "outputId": "a5d088cf-363a-44fb-de93-f4b9fe16bdc3"
      },
      "execution_count": null,
      "outputs": [
        {
          "output_type": "execute_result",
          "data": {
            "text/plain": [
              "array([7.09672293, 4.81087537, 4.19516054, 3.33146409, 5.25329006,\n",
              "       5.64209901, 5.50722805, 4.54535669, 6.67673452, 5.53645332,\n",
              "       5.97323575, 4.41589998, 6.48644033, 5.39813779, 6.66571248,\n",
              "       4.18962144, 6.86389916])"
            ]
          },
          "metadata": {},
          "execution_count": 58
        }
      ]
    },
    {
      "cell_type": "markdown",
      "source": [
        "5000"
      ],
      "metadata": {
        "id": "aShLuny4aZGb"
      }
    },
    {
      "cell_type": "markdown",
      "source": [
        "5000 0"
      ],
      "metadata": {
        "id": "EjvXYFWeadnh"
      }
    },
    {
      "cell_type": "code",
      "source": [
        "regr.predict(regr_normalized_extra_data_x[-17:])"
      ],
      "metadata": {
        "colab": {
          "base_uri": "https://localhost:8080/"
        },
        "id": "s_nY3shNaWWL",
        "outputId": "43ea5a5b-60ff-4953-de6c-544804ec9773"
      },
      "execution_count": null,
      "outputs": [
        {
          "output_type": "execute_result",
          "data": {
            "text/plain": [
              "array([ 9.630079  ,  6.76390791,  4.79669445,  3.08842999,  9.51716647,\n",
              "        6.18680618,  6.16553516,  3.20566455,  9.39522187,  7.85984264,\n",
              "       10.75606745,  5.83885443,  9.45970484,  7.54638482, 11.56957297,\n",
              "        3.79580697, 14.23048754])"
            ]
          },
          "metadata": {},
          "execution_count": 36
        }
      ]
    },
    {
      "cell_type": "markdown",
      "source": [
        "5000 1"
      ],
      "metadata": {
        "id": "a-8uT25oacbB"
      }
    },
    {
      "cell_type": "code",
      "source": [
        "regr.predict(regr_normalized_extra_data_x[-17:])"
      ],
      "metadata": {
        "colab": {
          "base_uri": "https://localhost:8080/"
        },
        "id": "Cpl1GyD8aWpX",
        "outputId": "ddfd5cb1-7bac-4fd8-d8c5-76ab8711cc15"
      },
      "execution_count": null,
      "outputs": [
        {
          "output_type": "execute_result",
          "data": {
            "text/plain": [
              "array([ 9.92489403,  5.7322397 ,  3.4004827 ,  1.54226635,  7.44036118,\n",
              "        6.69798373,  5.96540622,  2.7297523 , 10.16953717,  7.69878976,\n",
              "        9.20024688,  4.28252826,  8.32047374,  7.09920365, 11.08167024,\n",
              "        3.19905874, 12.73999207])"
            ]
          },
          "metadata": {},
          "execution_count": 34
        }
      ]
    },
    {
      "cell_type": "markdown",
      "source": [
        "5000 2"
      ],
      "metadata": {
        "id": "VcvfEkFbaiDQ"
      }
    },
    {
      "cell_type": "code",
      "source": [
        "regr.predict(regr_normalized_extra_data_x[-17:])"
      ],
      "metadata": {
        "colab": {
          "base_uri": "https://localhost:8080/"
        },
        "id": "RIv6XbFvaX1r",
        "outputId": "81342b78-51bc-4b40-c7bd-921179c4898a"
      },
      "execution_count": null,
      "outputs": [
        {
          "output_type": "execute_result",
          "data": {
            "text/plain": [
              "array([3.16497312, 4.67917545, 4.10277397, 4.30543712, 6.11428431,\n",
              "       2.85239544, 3.53002824, 3.20070129, 3.05742243, 4.12154792,\n",
              "       5.57732923, 5.60916419, 3.84831891, 3.56086751, 5.71436897,\n",
              "       4.1660405 , 5.75086615])"
            ]
          },
          "metadata": {},
          "execution_count": 32
        }
      ]
    },
    {
      "cell_type": "markdown",
      "source": [
        "5000 3"
      ],
      "metadata": {
        "id": "d-U2MKuOakQK"
      }
    },
    {
      "cell_type": "code",
      "source": [
        "regr.predict(regr_normalized_extra_data_x[-17:])"
      ],
      "metadata": {
        "colab": {
          "base_uri": "https://localhost:8080/"
        },
        "id": "FQpLKU3TaYOJ",
        "outputId": "e5a9b142-b960-4e36-906c-010379283236"
      },
      "execution_count": null,
      "outputs": [
        {
          "output_type": "execute_result",
          "data": {
            "text/plain": [
              "array([3.63434912, 4.2319599 , 3.17049328, 3.5992828 , 4.02410402,\n",
              "       3.22535681, 3.22685789, 2.37257771, 4.31389543, 4.37021899,\n",
              "       4.92323335, 4.35535102, 4.22436321, 3.62902161, 5.36556673,\n",
              "       3.10873962, 6.28011617])"
            ]
          },
          "metadata": {},
          "execution_count": 30
        }
      ]
    },
    {
      "cell_type": "markdown",
      "source": [
        "5000 4"
      ],
      "metadata": {
        "id": "9T0PcAvIanBe"
      }
    },
    {
      "cell_type": "code",
      "source": [
        "regr.predict(regr_normalized_extra_data_x[-17:])"
      ],
      "metadata": {
        "colab": {
          "base_uri": "https://localhost:8080/"
        },
        "id": "xV_3WtaEaYi3",
        "outputId": "df44fff9-1ee9-4418-c8d7-0986935b6025"
      },
      "execution_count": null,
      "outputs": [
        {
          "output_type": "execute_result",
          "data": {
            "text/plain": [
              "array([7.0321398 , 4.81772847, 4.22930734, 3.37700693, 5.25580482,\n",
              "       5.64900062, 5.44931498, 4.53629912, 6.71808822, 5.45163548,\n",
              "       6.04319996, 4.39724822, 6.55803382, 5.50003619, 6.51686978,\n",
              "       4.11603049, 6.74886731])"
            ]
          },
          "metadata": {},
          "execution_count": 28
        }
      ]
    },
    {
      "cell_type": "markdown",
      "source": [
        "500"
      ],
      "metadata": {
        "id": "36ZcRVKieHKN"
      }
    },
    {
      "cell_type": "markdown",
      "source": [
        "500 0"
      ],
      "metadata": {
        "id": "dkUzIVhHeJBx"
      }
    },
    {
      "cell_type": "code",
      "source": [
        "regr.predict(regr_normalized_extra_data_x[-17:])"
      ],
      "metadata": {
        "colab": {
          "base_uri": "https://localhost:8080/"
        },
        "id": "bSTmLDV7eLKi",
        "outputId": "010bf39c-a49e-4d15-ec09-edde8eed1409"
      },
      "execution_count": null,
      "outputs": [
        {
          "output_type": "execute_result",
          "data": {
            "text/plain": [
              "array([ 9.72663484,  6.74456392,  4.7535253 ,  3.02702588,  9.51557192,\n",
              "        6.16423568,  6.24084041,  3.20343838,  9.33944324,  7.98263898,\n",
              "       10.65785563,  5.86711815,  9.35576247,  7.40621338, 11.78011165,\n",
              "        3.9010944 , 14.40189517])"
            ]
          },
          "metadata": {},
          "execution_count": 44
        }
      ]
    },
    {
      "cell_type": "markdown",
      "source": [
        "500 1"
      ],
      "metadata": {
        "id": "HZ2NVMGxeLf5"
      }
    },
    {
      "cell_type": "code",
      "source": [
        "regr.predict(regr_normalized_extra_data_x[-17:])"
      ],
      "metadata": {
        "colab": {
          "base_uri": "https://localhost:8080/"
        },
        "id": "OmJG5FlkeL9A",
        "outputId": "4e3c7447-6d3b-4ca9-9739-fb6b1a8b3040"
      },
      "execution_count": null,
      "outputs": [
        {
          "output_type": "execute_result",
          "data": {
            "text/plain": [
              "array([ 9.94861324,  5.72906687,  3.39331751,  1.52298325,  7.44869736,\n",
              "        6.6881146 ,  5.98013164,  2.72331799, 10.14987482,  7.72213432,\n",
              "        9.16992277,  4.27987113,  8.29837215,  7.06555686, 11.1218863 ,\n",
              "        3.22827081, 12.77353533])"
            ]
          },
          "metadata": {},
          "execution_count": 46
        }
      ]
    },
    {
      "cell_type": "markdown",
      "source": [
        "500 2"
      ],
      "metadata": {
        "id": "BShWaRIneMHy"
      }
    },
    {
      "cell_type": "code",
      "source": [
        "regr.predict(regr_normalized_extra_data_x[-17:])"
      ],
      "metadata": {
        "colab": {
          "base_uri": "https://localhost:8080/"
        },
        "id": "QpZfTD0yeMR4",
        "outputId": "ae8b2b6d-6d34-4683-ee62-9103db991f1e"
      },
      "execution_count": null,
      "outputs": [
        {
          "output_type": "execute_result",
          "data": {
            "text/plain": [
              "array([3.16302292, 4.67920671, 4.10212126, 4.30716236, 6.11419781,\n",
              "       2.8564215 , 3.52870023, 3.20319796, 3.05834094, 4.11868909,\n",
              "       5.57892473, 5.60874484, 3.84930869, 3.56331405, 5.71071159,\n",
              "       4.16223186, 5.74692368])"
            ]
          },
          "metadata": {},
          "execution_count": 48
        }
      ]
    },
    {
      "cell_type": "markdown",
      "source": [
        "500 3"
      ],
      "metadata": {
        "id": "Cn2wXYI6eMbT"
      }
    },
    {
      "cell_type": "code",
      "source": [
        "regr.predict(regr_normalized_extra_data_x[-17:])"
      ],
      "metadata": {
        "colab": {
          "base_uri": "https://localhost:8080/"
        },
        "id": "hiBCZBa-eMkx",
        "outputId": "96c41fca-ed94-46f9-9a6f-34b6011e30c0"
      },
      "execution_count": null,
      "outputs": [
        {
          "output_type": "execute_result",
          "data": {
            "text/plain": [
              "array([3.6644729 , 4.22459426, 3.15699122, 3.58001972, 4.03331118,\n",
              "       3.23094749, 3.24733273, 2.37911846, 4.28873286, 4.39979151,\n",
              "       4.88494615, 4.35771105, 4.18884   , 3.58641695, 5.42609942,\n",
              "       3.13690872, 6.32201266])"
            ]
          },
          "metadata": {},
          "execution_count": 50
        }
      ]
    },
    {
      "cell_type": "markdown",
      "source": [
        "500 4"
      ],
      "metadata": {
        "id": "Ah4DKqB7ePA3"
      }
    },
    {
      "cell_type": "code",
      "source": [
        "regr.predict(regr_normalized_extra_data_x[-17:])"
      ],
      "metadata": {
        "colab": {
          "base_uri": "https://localhost:8080/"
        },
        "id": "_cCGGm5UePIz",
        "outputId": "a3efed61-e150-4648-a8b1-645639f729bf"
      },
      "execution_count": null,
      "outputs": [
        {
          "output_type": "execute_result",
          "data": {
            "text/plain": [
              "array([7.10101673, 4.80310495, 4.19776806, 3.33368456, 5.25804076,\n",
              "       5.6397636 , 5.50212507, 4.5390726 , 6.67542472, 5.5359663 ,\n",
              "       5.97029148, 4.41554269, 6.48191961, 5.400361  , 6.66605479,\n",
              "       4.18833328, 6.86677339])"
            ]
          },
          "metadata": {},
          "execution_count": 52
        }
      ]
    },
    {
      "cell_type": "code",
      "source": [
        "pandas_median_lable"
      ],
      "metadata": {
        "colab": {
          "base_uri": "https://localhost:8080/",
          "height": 1000
        },
        "id": "CzdyYRKilHM2",
        "outputId": "b4266935-f948-417d-9d2b-034cfb8ed29d"
      },
      "execution_count": null,
      "outputs": [
        {
          "output_type": "execute_result",
          "data": {
            "text/plain": [
              "        0      1      2      3      4\n",
              "0    True   True  False   True   True\n",
              "1   False  False  False  False  False\n",
              "2   False   True  False   True  False\n",
              "3   False  False   True   True  False\n",
              "4   False  False   True   True  False\n",
              "5   False  False   True  False  False\n",
              "6    True   True  False   True   True\n",
              "7   False   True  False   True  False\n",
              "8    True  False  False  False  False\n",
              "9    True   True   True  False   True\n",
              "10   True   True  False   True   True\n",
              "11   True   True   True   True   True\n",
              "12   True   True   True  False  False\n",
              "13  False   True  False  False   True\n",
              "14  False  False   True  False   True\n",
              "15  False   True  False  False   True\n",
              "16  False  False  False  False  False\n",
              "17   True  False   True  False  False\n",
              "18   True   True  False  False   True\n",
              "19   True   True   True   True  False\n",
              "20  False   True   True   True  False\n",
              "21  False   True   True  False   True\n",
              "22  False  False  False   True  False\n",
              "23   True  False   True   True   True\n",
              "24  False   True   True   True  False\n",
              "25  False  False  False   True  False\n",
              "26  False  False   True  False   True\n",
              "27  False  False  False   True  False\n",
              "28   True  False  False  False   True\n",
              "29  False   True   True   True  False\n",
              "30  False  False   True   True  False\n",
              "31   True   True  False   True   True\n",
              "32  False  False  False  False  False\n",
              "33  False  False   True  False  False\n",
              "34   True   True  False  False  False\n",
              "35  False  False  False  False  False\n",
              "36   True  False  False   True  False\n",
              "37  False  False  False  False   True\n",
              "38   True  False  False   True  False\n",
              "39   True  False   True  False   True\n",
              "40   True   True   True  False  False\n",
              "41   True   True  False  False   True\n",
              "42   True  False  False  False  False\n",
              "43   True   True   True   True   True\n",
              "44  False   True   True   True  False\n",
              "45   True  False  False  False  False\n",
              "46  False  False  False  False  False\n",
              "47  False   True   True  False   True\n",
              "48  False  False   True   True  False\n",
              "49   True   True   True   True  False\n",
              "50   True  False   True  False   True\n",
              "51   True  False  False  False   True\n",
              "52   True  False  False   True  False\n",
              "53  False   True  False   True   True\n",
              "54  False  False  False  False   True\n",
              "55   True   True   True   True   True\n",
              "56   True   True   True   True  False\n",
              "57   True   True  False   True   True"
            ],
            "text/html": [
              "\n",
              "  <div id=\"df-38b92661-59c5-4397-a508-c507d08ad324\">\n",
              "    <div class=\"colab-df-container\">\n",
              "      <div>\n",
              "<style scoped>\n",
              "    .dataframe tbody tr th:only-of-type {\n",
              "        vertical-align: middle;\n",
              "    }\n",
              "\n",
              "    .dataframe tbody tr th {\n",
              "        vertical-align: top;\n",
              "    }\n",
              "\n",
              "    .dataframe thead th {\n",
              "        text-align: right;\n",
              "    }\n",
              "</style>\n",
              "<table border=\"1\" class=\"dataframe\">\n",
              "  <thead>\n",
              "    <tr style=\"text-align: right;\">\n",
              "      <th></th>\n",
              "      <th>0</th>\n",
              "      <th>1</th>\n",
              "      <th>2</th>\n",
              "      <th>3</th>\n",
              "      <th>4</th>\n",
              "    </tr>\n",
              "  </thead>\n",
              "  <tbody>\n",
              "    <tr>\n",
              "      <th>0</th>\n",
              "      <td>True</td>\n",
              "      <td>True</td>\n",
              "      <td>False</td>\n",
              "      <td>True</td>\n",
              "      <td>True</td>\n",
              "    </tr>\n",
              "    <tr>\n",
              "      <th>1</th>\n",
              "      <td>False</td>\n",
              "      <td>False</td>\n",
              "      <td>False</td>\n",
              "      <td>False</td>\n",
              "      <td>False</td>\n",
              "    </tr>\n",
              "    <tr>\n",
              "      <th>2</th>\n",
              "      <td>False</td>\n",
              "      <td>True</td>\n",
              "      <td>False</td>\n",
              "      <td>True</td>\n",
              "      <td>False</td>\n",
              "    </tr>\n",
              "    <tr>\n",
              "      <th>3</th>\n",
              "      <td>False</td>\n",
              "      <td>False</td>\n",
              "      <td>True</td>\n",
              "      <td>True</td>\n",
              "      <td>False</td>\n",
              "    </tr>\n",
              "    <tr>\n",
              "      <th>4</th>\n",
              "      <td>False</td>\n",
              "      <td>False</td>\n",
              "      <td>True</td>\n",
              "      <td>True</td>\n",
              "      <td>False</td>\n",
              "    </tr>\n",
              "    <tr>\n",
              "      <th>5</th>\n",
              "      <td>False</td>\n",
              "      <td>False</td>\n",
              "      <td>True</td>\n",
              "      <td>False</td>\n",
              "      <td>False</td>\n",
              "    </tr>\n",
              "    <tr>\n",
              "      <th>6</th>\n",
              "      <td>True</td>\n",
              "      <td>True</td>\n",
              "      <td>False</td>\n",
              "      <td>True</td>\n",
              "      <td>True</td>\n",
              "    </tr>\n",
              "    <tr>\n",
              "      <th>7</th>\n",
              "      <td>False</td>\n",
              "      <td>True</td>\n",
              "      <td>False</td>\n",
              "      <td>True</td>\n",
              "      <td>False</td>\n",
              "    </tr>\n",
              "    <tr>\n",
              "      <th>8</th>\n",
              "      <td>True</td>\n",
              "      <td>False</td>\n",
              "      <td>False</td>\n",
              "      <td>False</td>\n",
              "      <td>False</td>\n",
              "    </tr>\n",
              "    <tr>\n",
              "      <th>9</th>\n",
              "      <td>True</td>\n",
              "      <td>True</td>\n",
              "      <td>True</td>\n",
              "      <td>False</td>\n",
              "      <td>True</td>\n",
              "    </tr>\n",
              "    <tr>\n",
              "      <th>10</th>\n",
              "      <td>True</td>\n",
              "      <td>True</td>\n",
              "      <td>False</td>\n",
              "      <td>True</td>\n",
              "      <td>True</td>\n",
              "    </tr>\n",
              "    <tr>\n",
              "      <th>11</th>\n",
              "      <td>True</td>\n",
              "      <td>True</td>\n",
              "      <td>True</td>\n",
              "      <td>True</td>\n",
              "      <td>True</td>\n",
              "    </tr>\n",
              "    <tr>\n",
              "      <th>12</th>\n",
              "      <td>True</td>\n",
              "      <td>True</td>\n",
              "      <td>True</td>\n",
              "      <td>False</td>\n",
              "      <td>False</td>\n",
              "    </tr>\n",
              "    <tr>\n",
              "      <th>13</th>\n",
              "      <td>False</td>\n",
              "      <td>True</td>\n",
              "      <td>False</td>\n",
              "      <td>False</td>\n",
              "      <td>True</td>\n",
              "    </tr>\n",
              "    <tr>\n",
              "      <th>14</th>\n",
              "      <td>False</td>\n",
              "      <td>False</td>\n",
              "      <td>True</td>\n",
              "      <td>False</td>\n",
              "      <td>True</td>\n",
              "    </tr>\n",
              "    <tr>\n",
              "      <th>15</th>\n",
              "      <td>False</td>\n",
              "      <td>True</td>\n",
              "      <td>False</td>\n",
              "      <td>False</td>\n",
              "      <td>True</td>\n",
              "    </tr>\n",
              "    <tr>\n",
              "      <th>16</th>\n",
              "      <td>False</td>\n",
              "      <td>False</td>\n",
              "      <td>False</td>\n",
              "      <td>False</td>\n",
              "      <td>False</td>\n",
              "    </tr>\n",
              "    <tr>\n",
              "      <th>17</th>\n",
              "      <td>True</td>\n",
              "      <td>False</td>\n",
              "      <td>True</td>\n",
              "      <td>False</td>\n",
              "      <td>False</td>\n",
              "    </tr>\n",
              "    <tr>\n",
              "      <th>18</th>\n",
              "      <td>True</td>\n",
              "      <td>True</td>\n",
              "      <td>False</td>\n",
              "      <td>False</td>\n",
              "      <td>True</td>\n",
              "    </tr>\n",
              "    <tr>\n",
              "      <th>19</th>\n",
              "      <td>True</td>\n",
              "      <td>True</td>\n",
              "      <td>True</td>\n",
              "      <td>True</td>\n",
              "      <td>False</td>\n",
              "    </tr>\n",
              "    <tr>\n",
              "      <th>20</th>\n",
              "      <td>False</td>\n",
              "      <td>True</td>\n",
              "      <td>True</td>\n",
              "      <td>True</td>\n",
              "      <td>False</td>\n",
              "    </tr>\n",
              "    <tr>\n",
              "      <th>21</th>\n",
              "      <td>False</td>\n",
              "      <td>True</td>\n",
              "      <td>True</td>\n",
              "      <td>False</td>\n",
              "      <td>True</td>\n",
              "    </tr>\n",
              "    <tr>\n",
              "      <th>22</th>\n",
              "      <td>False</td>\n",
              "      <td>False</td>\n",
              "      <td>False</td>\n",
              "      <td>True</td>\n",
              "      <td>False</td>\n",
              "    </tr>\n",
              "    <tr>\n",
              "      <th>23</th>\n",
              "      <td>True</td>\n",
              "      <td>False</td>\n",
              "      <td>True</td>\n",
              "      <td>True</td>\n",
              "      <td>True</td>\n",
              "    </tr>\n",
              "    <tr>\n",
              "      <th>24</th>\n",
              "      <td>False</td>\n",
              "      <td>True</td>\n",
              "      <td>True</td>\n",
              "      <td>True</td>\n",
              "      <td>False</td>\n",
              "    </tr>\n",
              "    <tr>\n",
              "      <th>25</th>\n",
              "      <td>False</td>\n",
              "      <td>False</td>\n",
              "      <td>False</td>\n",
              "      <td>True</td>\n",
              "      <td>False</td>\n",
              "    </tr>\n",
              "    <tr>\n",
              "      <th>26</th>\n",
              "      <td>False</td>\n",
              "      <td>False</td>\n",
              "      <td>True</td>\n",
              "      <td>False</td>\n",
              "      <td>True</td>\n",
              "    </tr>\n",
              "    <tr>\n",
              "      <th>27</th>\n",
              "      <td>False</td>\n",
              "      <td>False</td>\n",
              "      <td>False</td>\n",
              "      <td>True</td>\n",
              "      <td>False</td>\n",
              "    </tr>\n",
              "    <tr>\n",
              "      <th>28</th>\n",
              "      <td>True</td>\n",
              "      <td>False</td>\n",
              "      <td>False</td>\n",
              "      <td>False</td>\n",
              "      <td>True</td>\n",
              "    </tr>\n",
              "    <tr>\n",
              "      <th>29</th>\n",
              "      <td>False</td>\n",
              "      <td>True</td>\n",
              "      <td>True</td>\n",
              "      <td>True</td>\n",
              "      <td>False</td>\n",
              "    </tr>\n",
              "    <tr>\n",
              "      <th>30</th>\n",
              "      <td>False</td>\n",
              "      <td>False</td>\n",
              "      <td>True</td>\n",
              "      <td>True</td>\n",
              "      <td>False</td>\n",
              "    </tr>\n",
              "    <tr>\n",
              "      <th>31</th>\n",
              "      <td>True</td>\n",
              "      <td>True</td>\n",
              "      <td>False</td>\n",
              "      <td>True</td>\n",
              "      <td>True</td>\n",
              "    </tr>\n",
              "    <tr>\n",
              "      <th>32</th>\n",
              "      <td>False</td>\n",
              "      <td>False</td>\n",
              "      <td>False</td>\n",
              "      <td>False</td>\n",
              "      <td>False</td>\n",
              "    </tr>\n",
              "    <tr>\n",
              "      <th>33</th>\n",
              "      <td>False</td>\n",
              "      <td>False</td>\n",
              "      <td>True</td>\n",
              "      <td>False</td>\n",
              "      <td>False</td>\n",
              "    </tr>\n",
              "    <tr>\n",
              "      <th>34</th>\n",
              "      <td>True</td>\n",
              "      <td>True</td>\n",
              "      <td>False</td>\n",
              "      <td>False</td>\n",
              "      <td>False</td>\n",
              "    </tr>\n",
              "    <tr>\n",
              "      <th>35</th>\n",
              "      <td>False</td>\n",
              "      <td>False</td>\n",
              "      <td>False</td>\n",
              "      <td>False</td>\n",
              "      <td>False</td>\n",
              "    </tr>\n",
              "    <tr>\n",
              "      <th>36</th>\n",
              "      <td>True</td>\n",
              "      <td>False</td>\n",
              "      <td>False</td>\n",
              "      <td>True</td>\n",
              "      <td>False</td>\n",
              "    </tr>\n",
              "    <tr>\n",
              "      <th>37</th>\n",
              "      <td>False</td>\n",
              "      <td>False</td>\n",
              "      <td>False</td>\n",
              "      <td>False</td>\n",
              "      <td>True</td>\n",
              "    </tr>\n",
              "    <tr>\n",
              "      <th>38</th>\n",
              "      <td>True</td>\n",
              "      <td>False</td>\n",
              "      <td>False</td>\n",
              "      <td>True</td>\n",
              "      <td>False</td>\n",
              "    </tr>\n",
              "    <tr>\n",
              "      <th>39</th>\n",
              "      <td>True</td>\n",
              "      <td>False</td>\n",
              "      <td>True</td>\n",
              "      <td>False</td>\n",
              "      <td>True</td>\n",
              "    </tr>\n",
              "    <tr>\n",
              "      <th>40</th>\n",
              "      <td>True</td>\n",
              "      <td>True</td>\n",
              "      <td>True</td>\n",
              "      <td>False</td>\n",
              "      <td>False</td>\n",
              "    </tr>\n",
              "    <tr>\n",
              "      <th>41</th>\n",
              "      <td>True</td>\n",
              "      <td>True</td>\n",
              "      <td>False</td>\n",
              "      <td>False</td>\n",
              "      <td>True</td>\n",
              "    </tr>\n",
              "    <tr>\n",
              "      <th>42</th>\n",
              "      <td>True</td>\n",
              "      <td>False</td>\n",
              "      <td>False</td>\n",
              "      <td>False</td>\n",
              "      <td>False</td>\n",
              "    </tr>\n",
              "    <tr>\n",
              "      <th>43</th>\n",
              "      <td>True</td>\n",
              "      <td>True</td>\n",
              "      <td>True</td>\n",
              "      <td>True</td>\n",
              "      <td>True</td>\n",
              "    </tr>\n",
              "    <tr>\n",
              "      <th>44</th>\n",
              "      <td>False</td>\n",
              "      <td>True</td>\n",
              "      <td>True</td>\n",
              "      <td>True</td>\n",
              "      <td>False</td>\n",
              "    </tr>\n",
              "    <tr>\n",
              "      <th>45</th>\n",
              "      <td>True</td>\n",
              "      <td>False</td>\n",
              "      <td>False</td>\n",
              "      <td>False</td>\n",
              "      <td>False</td>\n",
              "    </tr>\n",
              "    <tr>\n",
              "      <th>46</th>\n",
              "      <td>False</td>\n",
              "      <td>False</td>\n",
              "      <td>False</td>\n",
              "      <td>False</td>\n",
              "      <td>False</td>\n",
              "    </tr>\n",
              "    <tr>\n",
              "      <th>47</th>\n",
              "      <td>False</td>\n",
              "      <td>True</td>\n",
              "      <td>True</td>\n",
              "      <td>False</td>\n",
              "      <td>True</td>\n",
              "    </tr>\n",
              "    <tr>\n",
              "      <th>48</th>\n",
              "      <td>False</td>\n",
              "      <td>False</td>\n",
              "      <td>True</td>\n",
              "      <td>True</td>\n",
              "      <td>False</td>\n",
              "    </tr>\n",
              "    <tr>\n",
              "      <th>49</th>\n",
              "      <td>True</td>\n",
              "      <td>True</td>\n",
              "      <td>True</td>\n",
              "      <td>True</td>\n",
              "      <td>False</td>\n",
              "    </tr>\n",
              "    <tr>\n",
              "      <th>50</th>\n",
              "      <td>True</td>\n",
              "      <td>False</td>\n",
              "      <td>True</td>\n",
              "      <td>False</td>\n",
              "      <td>True</td>\n",
              "    </tr>\n",
              "    <tr>\n",
              "      <th>51</th>\n",
              "      <td>True</td>\n",
              "      <td>False</td>\n",
              "      <td>False</td>\n",
              "      <td>False</td>\n",
              "      <td>True</td>\n",
              "    </tr>\n",
              "    <tr>\n",
              "      <th>52</th>\n",
              "      <td>True</td>\n",
              "      <td>False</td>\n",
              "      <td>False</td>\n",
              "      <td>True</td>\n",
              "      <td>False</td>\n",
              "    </tr>\n",
              "    <tr>\n",
              "      <th>53</th>\n",
              "      <td>False</td>\n",
              "      <td>True</td>\n",
              "      <td>False</td>\n",
              "      <td>True</td>\n",
              "      <td>True</td>\n",
              "    </tr>\n",
              "    <tr>\n",
              "      <th>54</th>\n",
              "      <td>False</td>\n",
              "      <td>False</td>\n",
              "      <td>False</td>\n",
              "      <td>False</td>\n",
              "      <td>True</td>\n",
              "    </tr>\n",
              "    <tr>\n",
              "      <th>55</th>\n",
              "      <td>True</td>\n",
              "      <td>True</td>\n",
              "      <td>True</td>\n",
              "      <td>True</td>\n",
              "      <td>True</td>\n",
              "    </tr>\n",
              "    <tr>\n",
              "      <th>56</th>\n",
              "      <td>True</td>\n",
              "      <td>True</td>\n",
              "      <td>True</td>\n",
              "      <td>True</td>\n",
              "      <td>False</td>\n",
              "    </tr>\n",
              "    <tr>\n",
              "      <th>57</th>\n",
              "      <td>True</td>\n",
              "      <td>True</td>\n",
              "      <td>False</td>\n",
              "      <td>True</td>\n",
              "      <td>True</td>\n",
              "    </tr>\n",
              "  </tbody>\n",
              "</table>\n",
              "</div>\n",
              "      <button class=\"colab-df-convert\" onclick=\"convertToInteractive('df-38b92661-59c5-4397-a508-c507d08ad324')\"\n",
              "              title=\"Convert this dataframe to an interactive table.\"\n",
              "              style=\"display:none;\">\n",
              "        \n",
              "  <svg xmlns=\"http://www.w3.org/2000/svg\" height=\"24px\"viewBox=\"0 0 24 24\"\n",
              "       width=\"24px\">\n",
              "    <path d=\"M0 0h24v24H0V0z\" fill=\"none\"/>\n",
              "    <path d=\"M18.56 5.44l.94 2.06.94-2.06 2.06-.94-2.06-.94-.94-2.06-.94 2.06-2.06.94zm-11 1L8.5 8.5l.94-2.06 2.06-.94-2.06-.94L8.5 2.5l-.94 2.06-2.06.94zm10 10l.94 2.06.94-2.06 2.06-.94-2.06-.94-.94-2.06-.94 2.06-2.06.94z\"/><path d=\"M17.41 7.96l-1.37-1.37c-.4-.4-.92-.59-1.43-.59-.52 0-1.04.2-1.43.59L10.3 9.45l-7.72 7.72c-.78.78-.78 2.05 0 2.83L4 21.41c.39.39.9.59 1.41.59.51 0 1.02-.2 1.41-.59l7.78-7.78 2.81-2.81c.8-.78.8-2.07 0-2.86zM5.41 20L4 18.59l7.72-7.72 1.47 1.35L5.41 20z\"/>\n",
              "  </svg>\n",
              "      </button>\n",
              "      \n",
              "  <style>\n",
              "    .colab-df-container {\n",
              "      display:flex;\n",
              "      flex-wrap:wrap;\n",
              "      gap: 12px;\n",
              "    }\n",
              "\n",
              "    .colab-df-convert {\n",
              "      background-color: #E8F0FE;\n",
              "      border: none;\n",
              "      border-radius: 50%;\n",
              "      cursor: pointer;\n",
              "      display: none;\n",
              "      fill: #1967D2;\n",
              "      height: 32px;\n",
              "      padding: 0 0 0 0;\n",
              "      width: 32px;\n",
              "    }\n",
              "\n",
              "    .colab-df-convert:hover {\n",
              "      background-color: #E2EBFA;\n",
              "      box-shadow: 0px 1px 2px rgba(60, 64, 67, 0.3), 0px 1px 3px 1px rgba(60, 64, 67, 0.15);\n",
              "      fill: #174EA6;\n",
              "    }\n",
              "\n",
              "    [theme=dark] .colab-df-convert {\n",
              "      background-color: #3B4455;\n",
              "      fill: #D2E3FC;\n",
              "    }\n",
              "\n",
              "    [theme=dark] .colab-df-convert:hover {\n",
              "      background-color: #434B5C;\n",
              "      box-shadow: 0px 1px 3px 1px rgba(0, 0, 0, 0.15);\n",
              "      filter: drop-shadow(0px 1px 2px rgba(0, 0, 0, 0.3));\n",
              "      fill: #FFFFFF;\n",
              "    }\n",
              "  </style>\n",
              "\n",
              "      <script>\n",
              "        const buttonEl =\n",
              "          document.querySelector('#df-38b92661-59c5-4397-a508-c507d08ad324 button.colab-df-convert');\n",
              "        buttonEl.style.display =\n",
              "          google.colab.kernel.accessAllowed ? 'block' : 'none';\n",
              "\n",
              "        async function convertToInteractive(key) {\n",
              "          const element = document.querySelector('#df-38b92661-59c5-4397-a508-c507d08ad324');\n",
              "          const dataTable =\n",
              "            await google.colab.kernel.invokeFunction('convertToInteractive',\n",
              "                                                     [key], {});\n",
              "          if (!dataTable) return;\n",
              "\n",
              "          const docLinkHtml = 'Like what you see? Visit the ' +\n",
              "            '<a target=\"_blank\" href=https://colab.research.google.com/notebooks/data_table.ipynb>data table notebook</a>'\n",
              "            + ' to learn more about interactive tables.';\n",
              "          element.innerHTML = '';\n",
              "          dataTable['output_type'] = 'display_data';\n",
              "          await google.colab.output.renderOutput(dataTable, element);\n",
              "          const docLink = document.createElement('div');\n",
              "          docLink.innerHTML = docLinkHtml;\n",
              "          element.appendChild(docLink);\n",
              "        }\n",
              "      </script>\n",
              "    </div>\n",
              "  </div>\n",
              "  "
            ]
          },
          "metadata": {},
          "execution_count": 41
        }
      ]
    },
    {
      "cell_type": "code",
      "source": [
        "regr = linear_model.LinearRegression()\n",
        "print('mulit_linear_regression:\\n')\n",
        "for i in range(5):\n",
        "  score = cross_val_score( regr, pandas_normalize_eeg_features, pandas_personality[i], cv = 25)\n",
        "  print(index_to_personality_traits[i], index_to_tab[i], '\\t:', score.mean())"
      ],
      "metadata": {
        "colab": {
          "base_uri": "https://localhost:8080/"
        },
        "id": "6CFAb16FXhp5",
        "outputId": "5beba9b5-791e-4e89-c57f-a34b090c7a56"
      },
      "execution_count": null,
      "outputs": [
        {
          "output_type": "stream",
          "name": "stdout",
          "text": [
            "mulit_linear_regression:\n",
            "\n",
            "Extraversion \t \t: -4.917463002760152\n",
            "Agreeableness \t \t: -11.531186752370159\n",
            "Conscientiousness  \t: -2.5042592024642256\n",
            "Emotional Stability  \t: -5.393546208021621\n",
            "Openness \t \t: -12.149484112768121\n"
          ]
        }
      ]
    },
    {
      "cell_type": "markdown",
      "source": [
        "# temp"
      ],
      "metadata": {
        "id": "04X8LwmLsa7o"
      }
    },
    {
      "cell_type": "code",
      "source": [
        ""
      ],
      "metadata": {
        "id": "DMwBA_KCfiCM"
      },
      "execution_count": null,
      "outputs": []
    },
    {
      "cell_type": "code",
      "source": [
        ""
      ],
      "metadata": {
        "id": "ULIL_oEOvQnv"
      },
      "execution_count": null,
      "outputs": []
    },
    {
      "cell_type": "code",
      "source": [
        "from tensorflow.keras.models import Sequential\n",
        "from tensorflow.keras.layers import Dense, Activation\n",
        "from tensorflow.keras.optimizers import Adam\n",
        "import tensorflow as tf"
      ],
      "metadata": {
        "id": "ms0w7mhevQyQ"
      },
      "execution_count": null,
      "outputs": []
    },
    {
      "cell_type": "code",
      "source": [
        "model = Sequential()\n",
        "model.add(Dense(36,activation='relu',input_shape=(3168,)))\n",
        "model.add(Dense(36,activation='relu'))\n",
        "model.add(Dense(1))"
      ],
      "metadata": {
        "id": "Rb_N9tYPvSRl"
      },
      "execution_count": null,
      "outputs": []
    },
    {
      "cell_type": "code",
      "source": [
        "model.compile(optimizer='Adam',loss=tf.keras.losses.MeanSquaredError())"
      ],
      "metadata": {
        "id": "ZWHuoFeHvUNG"
      },
      "execution_count": null,
      "outputs": []
    },
    {
      "cell_type": "code",
      "source": [
        "x_train = regr_normalized_extra_data_x[:-17]\n",
        "y_train = regr_extra_data_y[4][:-17]\n",
        "x_test = regr_normalized_extra_data_x[-17:]\n",
        "y_test = regr_extra_data_y[4][-17:]"
      ],
      "metadata": {
        "id": "0nzI_gqvvZ2A"
      },
      "execution_count": null,
      "outputs": []
    },
    {
      "cell_type": "code",
      "source": [
        "model.fit(x=x_train,y=y_train,\n",
        "          validation_data=(x_test,y_test),\n",
        "          batch_size=1,epochs=100)\n",
        "model.summary()"
      ],
      "metadata": {
        "colab": {
          "base_uri": "https://localhost:8080/"
        },
        "id": "mTlVokkYvcNF",
        "outputId": "d4ac96f2-609f-45cd-865e-0cf43a971641"
      },
      "execution_count": null,
      "outputs": [
        {
          "output_type": "stream",
          "name": "stdout",
          "text": [
            "Epoch 1/100\n",
            "5041/5041 [==============================] - 7s 1ms/step - loss: 0.2455 - val_loss: 0.6718\n",
            "Epoch 2/100\n",
            "5041/5041 [==============================] - 8s 1ms/step - loss: 0.1272 - val_loss: 1.1049\n",
            "Epoch 3/100\n",
            "5041/5041 [==============================] - 6s 1ms/step - loss: 0.0834 - val_loss: 0.6088\n",
            "Epoch 4/100\n",
            "5041/5041 [==============================] - 6s 1ms/step - loss: 0.0602 - val_loss: 0.6522\n",
            "Epoch 5/100\n",
            "5041/5041 [==============================] - 6s 1ms/step - loss: 0.0481 - val_loss: 0.8381\n",
            "Epoch 6/100\n",
            "5041/5041 [==============================] - 6s 1ms/step - loss: 0.0416 - val_loss: 0.8322\n",
            "Epoch 7/100\n",
            "5041/5041 [==============================] - 6s 1ms/step - loss: 0.0322 - val_loss: 0.9978\n",
            "Epoch 8/100\n",
            "5041/5041 [==============================] - 7s 1ms/step - loss: 0.0326 - val_loss: 0.8056\n",
            "Epoch 9/100\n",
            "5041/5041 [==============================] - 6s 1ms/step - loss: 0.0250 - val_loss: 0.9726\n",
            "Epoch 10/100\n",
            "5041/5041 [==============================] - 6s 1ms/step - loss: 0.0247 - val_loss: 0.8689\n",
            "Epoch 11/100\n",
            "5041/5041 [==============================] - 6s 1ms/step - loss: 0.0223 - val_loss: 1.1229\n",
            "Epoch 12/100\n",
            "5041/5041 [==============================] - 6s 1ms/step - loss: 0.0204 - val_loss: 0.7324\n",
            "Epoch 13/100\n",
            "5041/5041 [==============================] - 6s 1ms/step - loss: 0.0181 - val_loss: 0.8277\n",
            "Epoch 14/100\n",
            "5041/5041 [==============================] - 6s 1ms/step - loss: 0.0147 - val_loss: 0.8000\n",
            "Epoch 15/100\n",
            "5041/5041 [==============================] - 6s 1ms/step - loss: 0.0146 - val_loss: 0.8049\n",
            "Epoch 16/100\n",
            "5041/5041 [==============================] - 6s 1ms/step - loss: 0.0149 - val_loss: 1.0352\n",
            "Epoch 17/100\n",
            "5041/5041 [==============================] - 6s 1ms/step - loss: 0.0118 - val_loss: 0.9958\n",
            "Epoch 18/100\n",
            "5041/5041 [==============================] - 6s 1ms/step - loss: 0.0145 - val_loss: 0.9857\n",
            "Epoch 19/100\n",
            "5041/5041 [==============================] - 6s 1ms/step - loss: 0.0111 - val_loss: 1.0032\n",
            "Epoch 20/100\n",
            "5041/5041 [==============================] - 6s 1ms/step - loss: 0.0115 - val_loss: 0.9771\n",
            "Epoch 21/100\n",
            "5041/5041 [==============================] - 6s 1ms/step - loss: 0.0114 - val_loss: 0.8706\n",
            "Epoch 22/100\n",
            "5041/5041 [==============================] - 6s 1ms/step - loss: 0.0107 - val_loss: 1.0325\n",
            "Epoch 23/100\n",
            "5041/5041 [==============================] - 6s 1ms/step - loss: 0.0078 - val_loss: 0.9180\n",
            "Epoch 24/100\n",
            "5041/5041 [==============================] - 6s 1ms/step - loss: 0.0089 - val_loss: 0.9534\n",
            "Epoch 25/100\n",
            "5041/5041 [==============================] - 6s 1ms/step - loss: 0.0091 - val_loss: 0.9853\n",
            "Epoch 26/100\n",
            "5041/5041 [==============================] - 6s 1ms/step - loss: 0.0072 - val_loss: 0.9527\n",
            "Epoch 27/100\n",
            "5041/5041 [==============================] - 6s 1ms/step - loss: 0.0075 - val_loss: 0.9730\n",
            "Epoch 28/100\n",
            "5041/5041 [==============================] - 6s 1ms/step - loss: 0.0073 - val_loss: 1.0067\n",
            "Epoch 29/100\n",
            "5041/5041 [==============================] - 6s 1ms/step - loss: 0.0092 - val_loss: 0.9166\n",
            "Epoch 30/100\n",
            "5041/5041 [==============================] - 6s 1ms/step - loss: 0.0064 - val_loss: 1.0000\n",
            "Epoch 31/100\n",
            "5041/5041 [==============================] - 6s 1ms/step - loss: 0.0061 - val_loss: 0.9573\n",
            "Epoch 32/100\n",
            "5041/5041 [==============================] - 6s 1ms/step - loss: 0.0063 - val_loss: 0.8698\n",
            "Epoch 33/100\n",
            "5041/5041 [==============================] - 6s 1ms/step - loss: 0.0076 - val_loss: 0.9267\n",
            "Epoch 34/100\n",
            "5041/5041 [==============================] - 6s 1ms/step - loss: 0.0054 - val_loss: 0.9727\n",
            "Epoch 35/100\n",
            "5041/5041 [==============================] - 6s 1ms/step - loss: 0.0055 - val_loss: 1.0679\n",
            "Epoch 36/100\n",
            "5041/5041 [==============================] - 6s 1ms/step - loss: 0.0080 - val_loss: 0.9891\n",
            "Epoch 37/100\n",
            "5041/5041 [==============================] - 6s 1ms/step - loss: 0.0065 - val_loss: 0.9673\n",
            "Epoch 38/100\n",
            "5041/5041 [==============================] - 7s 1ms/step - loss: 0.0059 - val_loss: 0.9646\n",
            "Epoch 39/100\n",
            "5041/5041 [==============================] - 7s 1ms/step - loss: 0.0045 - val_loss: 0.8752\n",
            "Epoch 40/100\n",
            "5041/5041 [==============================] - 6s 1ms/step - loss: 0.0055 - val_loss: 0.9535\n",
            "Epoch 41/100\n",
            "5041/5041 [==============================] - 6s 1ms/step - loss: 0.0054 - val_loss: 0.9600\n",
            "Epoch 42/100\n",
            "5041/5041 [==============================] - 6s 1ms/step - loss: 0.0044 - val_loss: 1.1409\n",
            "Epoch 43/100\n",
            "5041/5041 [==============================] - 6s 1ms/step - loss: 0.0069 - val_loss: 0.8503\n",
            "Epoch 44/100\n",
            "5041/5041 [==============================] - 6s 1ms/step - loss: 0.0148 - val_loss: 1.4497\n",
            "Epoch 45/100\n",
            "5041/5041 [==============================] - 6s 1ms/step - loss: 0.0107 - val_loss: 1.2406\n",
            "Epoch 46/100\n",
            "5041/5041 [==============================] - 6s 1ms/step - loss: 0.0051 - val_loss: 1.3037\n",
            "Epoch 47/100\n",
            "5041/5041 [==============================] - 6s 1ms/step - loss: 0.0046 - val_loss: 1.2145\n",
            "Epoch 48/100\n",
            "5041/5041 [==============================] - 6s 1ms/step - loss: 0.0039 - val_loss: 1.1505\n",
            "Epoch 49/100\n",
            "5041/5041 [==============================] - 6s 1ms/step - loss: 0.0039 - val_loss: 1.0911\n",
            "Epoch 50/100\n",
            "5041/5041 [==============================] - 6s 1ms/step - loss: 0.0037 - val_loss: 1.1014\n",
            "Epoch 51/100\n",
            "5041/5041 [==============================] - 8s 2ms/step - loss: 0.0032 - val_loss: 1.0780\n",
            "Epoch 52/100\n",
            "5041/5041 [==============================] - 7s 1ms/step - loss: 0.0032 - val_loss: 1.1092\n",
            "Epoch 53/100\n",
            "5041/5041 [==============================] - 6s 1ms/step - loss: 0.0041 - val_loss: 1.0121\n",
            "Epoch 54/100\n",
            "5041/5041 [==============================] - 6s 1ms/step - loss: 0.0031 - val_loss: 1.0684\n",
            "Epoch 55/100\n",
            "5041/5041 [==============================] - 6s 1ms/step - loss: 0.0029 - val_loss: 1.1052\n",
            "Epoch 56/100\n",
            "5041/5041 [==============================] - 6s 1ms/step - loss: 0.0032 - val_loss: 1.0826\n",
            "Epoch 57/100\n",
            "5041/5041 [==============================] - 6s 1ms/step - loss: 0.0028 - val_loss: 1.0074\n",
            "Epoch 58/100\n",
            "5041/5041 [==============================] - 6s 1ms/step - loss: 0.0032 - val_loss: 1.1258\n",
            "Epoch 59/100\n",
            "5041/5041 [==============================] - 6s 1ms/step - loss: 0.0031 - val_loss: 1.0499\n",
            "Epoch 60/100\n",
            "5041/5041 [==============================] - 6s 1ms/step - loss: 0.0030 - val_loss: 1.0718\n",
            "Epoch 61/100\n",
            "5041/5041 [==============================] - 6s 1ms/step - loss: 0.0029 - val_loss: 1.1050\n",
            "Epoch 62/100\n",
            "5041/5041 [==============================] - 7s 1ms/step - loss: 0.0029 - val_loss: 1.1037\n",
            "Epoch 63/100\n",
            "5041/5041 [==============================] - 7s 1ms/step - loss: 0.0027 - val_loss: 1.0089\n",
            "Epoch 64/100\n",
            "5041/5041 [==============================] - 6s 1ms/step - loss: 0.0026 - val_loss: 1.0052\n",
            "Epoch 65/100\n",
            "5041/5041 [==============================] - 6s 1ms/step - loss: 0.0024 - val_loss: 0.9506\n",
            "Epoch 66/100\n",
            "5041/5041 [==============================] - 6s 1ms/step - loss: 0.0027 - val_loss: 1.1562\n",
            "Epoch 67/100\n",
            "5041/5041 [==============================] - 6s 1ms/step - loss: 0.0023 - val_loss: 1.1175\n",
            "Epoch 68/100\n",
            "5041/5041 [==============================] - 6s 1ms/step - loss: 0.0023 - val_loss: 1.0217\n",
            "Epoch 69/100\n",
            "5041/5041 [==============================] - 6s 1ms/step - loss: 0.0028 - val_loss: 0.9351\n",
            "Epoch 70/100\n",
            "5041/5041 [==============================] - 6s 1ms/step - loss: 0.0023 - val_loss: 0.9729\n",
            "Epoch 71/100\n",
            "5041/5041 [==============================] - 6s 1ms/step - loss: 0.0022 - val_loss: 0.9836\n",
            "Epoch 72/100\n",
            "5041/5041 [==============================] - 6s 1ms/step - loss: 0.0023 - val_loss: 0.9790\n",
            "Epoch 73/100\n",
            "5041/5041 [==============================] - 6s 1ms/step - loss: 0.0021 - val_loss: 1.0062\n",
            "Epoch 74/100\n",
            "5041/5041 [==============================] - 6s 1ms/step - loss: 0.0020 - val_loss: 0.9564\n",
            "Epoch 75/100\n",
            "5041/5041 [==============================] - 6s 1ms/step - loss: 0.0024 - val_loss: 0.9529\n",
            "Epoch 76/100\n",
            "5041/5041 [==============================] - 6s 1ms/step - loss: 0.0021 - val_loss: 0.9166\n",
            "Epoch 77/100\n",
            "5041/5041 [==============================] - 6s 1ms/step - loss: 0.0020 - val_loss: 0.9293\n",
            "Epoch 78/100\n",
            "5041/5041 [==============================] - 6s 1ms/step - loss: 0.0022 - val_loss: 0.9266\n",
            "Epoch 79/100\n",
            "5041/5041 [==============================] - 6s 1ms/step - loss: 0.0021 - val_loss: 0.9752\n",
            "Epoch 80/100\n",
            "5041/5041 [==============================] - 7s 1ms/step - loss: 0.0021 - val_loss: 0.8857\n",
            "Epoch 81/100\n",
            "5041/5041 [==============================] - 6s 1ms/step - loss: 0.0019 - val_loss: 0.9261\n",
            "Epoch 82/100\n",
            "5041/5041 [==============================] - 6s 1ms/step - loss: 0.0019 - val_loss: 0.8764\n",
            "Epoch 83/100\n",
            "5041/5041 [==============================] - 6s 1ms/step - loss: 0.0019 - val_loss: 0.9013\n",
            "Epoch 84/100\n",
            "5041/5041 [==============================] - 7s 1ms/step - loss: 0.0019 - val_loss: 0.9661\n",
            "Epoch 85/100\n",
            "5041/5041 [==============================] - 7s 1ms/step - loss: 0.0018 - val_loss: 0.8963\n",
            "Epoch 86/100\n",
            "5041/5041 [==============================] - 6s 1ms/step - loss: 0.0022 - val_loss: 0.8966\n",
            "Epoch 87/100\n",
            "5041/5041 [==============================] - 6s 1ms/step - loss: 0.0019 - val_loss: 0.8470\n",
            "Epoch 88/100\n",
            "5041/5041 [==============================] - 6s 1ms/step - loss: 0.0018 - val_loss: 0.8713\n",
            "Epoch 89/100\n",
            "5041/5041 [==============================] - 6s 1ms/step - loss: 0.0019 - val_loss: 0.8509\n",
            "Epoch 90/100\n",
            "5041/5041 [==============================] - 6s 1ms/step - loss: 0.0017 - val_loss: 0.8577\n",
            "Epoch 91/100\n",
            "5041/5041 [==============================] - 6s 1ms/step - loss: 0.0020 - val_loss: 0.8374\n",
            "Epoch 92/100\n",
            "5041/5041 [==============================] - 7s 1ms/step - loss: 0.0020 - val_loss: 0.8656\n",
            "Epoch 93/100\n",
            "5041/5041 [==============================] - 7s 1ms/step - loss: 0.0016 - val_loss: 0.8201\n",
            "Epoch 94/100\n",
            "5041/5041 [==============================] - 6s 1ms/step - loss: 0.0020 - val_loss: 0.8695\n",
            "Epoch 95/100\n",
            "5041/5041 [==============================] - 6s 1ms/step - loss: 0.0018 - val_loss: 0.8148\n",
            "Epoch 96/100\n",
            "5041/5041 [==============================] - 6s 1ms/step - loss: 0.0015 - val_loss: 0.8743\n",
            "Epoch 97/100\n",
            "5041/5041 [==============================] - 7s 1ms/step - loss: 0.0017 - val_loss: 0.8532\n",
            "Epoch 98/100\n",
            "5041/5041 [==============================] - 6s 1ms/step - loss: 0.0018 - val_loss: 0.8329\n",
            "Epoch 99/100\n",
            "5041/5041 [==============================] - 6s 1ms/step - loss: 0.0016 - val_loss: 0.8485\n",
            "Epoch 100/100\n",
            "5041/5041 [==============================] - 6s 1ms/step - loss: 0.0017 - val_loss: 0.8559\n",
            "Model: \"sequential_7\"\n",
            "_________________________________________________________________\n",
            " Layer (type)                Output Shape              Param #   \n",
            "=================================================================\n",
            " dense_21 (Dense)            (None, 36)                114084    \n",
            "                                                                 \n",
            " dense_22 (Dense)            (None, 36)                1332      \n",
            "                                                                 \n",
            " dense_23 (Dense)            (None, 1)                 37        \n",
            "                                                                 \n",
            "=================================================================\n",
            "Total params: 115,453\n",
            "Trainable params: 115,453\n",
            "Non-trainable params: 0\n",
            "_________________________________________________________________\n"
          ]
        }
      ]
    },
    {
      "cell_type": "code",
      "source": [
        "model.evaluate(x_test, y_test)"
      ],
      "metadata": {
        "colab": {
          "base_uri": "https://localhost:8080/"
        },
        "id": "xWUJDQPHwrx0",
        "outputId": "74e70acb-3ea5-40b3-c211-afe1d7faa2cd"
      },
      "execution_count": null,
      "outputs": [
        {
          "output_type": "stream",
          "name": "stdout",
          "text": [
            "1/1 [==============================] - 0s 17ms/step - loss: 1.0408\n"
          ]
        },
        {
          "output_type": "execute_result",
          "data": {
            "text/plain": [
              "1.0408450365066528"
            ]
          },
          "metadata": {},
          "execution_count": 133
        }
      ]
    },
    {
      "cell_type": "code",
      "source": [
        "model.predict(x_test)"
      ],
      "metadata": {
        "colab": {
          "base_uri": "https://localhost:8080/"
        },
        "id": "B6BnU8LZ0mSK",
        "outputId": "0311e64d-4787-44ce-d6c9-8c1c41f6e080"
      },
      "execution_count": null,
      "outputs": [
        {
          "output_type": "execute_result",
          "data": {
            "text/plain": [
              "array([[4.858167 ],\n",
              "       [4.178873 ],\n",
              "       [4.733989 ],\n",
              "       [4.7954326],\n",
              "       [4.856232 ],\n",
              "       [5.013078 ],\n",
              "       [5.0597897],\n",
              "       [4.430618 ],\n",
              "       [4.6388206],\n",
              "       [4.6285725],\n",
              "       [4.4306374],\n",
              "       [4.7832994],\n",
              "       [5.1536436],\n",
              "       [4.5187564],\n",
              "       [4.388255 ],\n",
              "       [4.662722 ],\n",
              "       [4.0188737]], dtype=float32)"
            ]
          },
          "metadata": {},
          "execution_count": 134
        }
      ]
    },
    {
      "cell_type": "code",
      "source": [
        "import matplotlib.pyplot as plt"
      ],
      "metadata": {
        "id": "juUCm3R1w_aA"
      },
      "execution_count": null,
      "outputs": []
    },
    {
      "cell_type": "code",
      "source": [
        "plt.plot(hist.history['loss'])\n",
        "plt.plot(hist.history['val_loss'])\n",
        "plt.title('Model loss')\n",
        "plt.ylabel('Loss')\n",
        "plt.xlabel('Epoch')\n",
        "plt.legend(['Train', 'Val'], loc='upper right')\n",
        "plt.show()"
      ],
      "metadata": {
        "colab": {
          "base_uri": "https://localhost:8080/",
          "height": 295
        },
        "id": "ZShSW8hAw8D4",
        "outputId": "3e262f10-eaa7-4bdf-b86e-bb1959354cd4"
      },
      "execution_count": null,
      "outputs": [
        {
          "output_type": "display_data",
          "data": {
            "text/plain": [
              "<Figure size 432x288 with 1 Axes>"
            ],
            "image/png": "[encoded data removed]"
          },
          "metadata": {
            "needs_background": "light"
          }
        }
      ]
    }
  ]
}